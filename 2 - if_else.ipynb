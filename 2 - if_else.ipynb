{
 "cells": [
  {
   "cell_type": "code",
   "execution_count": 27,
   "metadata": {},
   "outputs": [
    {
     "name": "stdout",
     "output_type": "stream",
     "text": [
      "10.0 is not multiple of 3.0\n",
      "Result: 1.0\n"
     ]
    }
   ],
   "source": [
    "## Write a calculator program using 'if-else' condition.\n",
    "\n",
    "num1=float(input('Enter 1st number'))\n",
    "num2=float(input('Enter 2nd number'))\n",
    "operation=input('select an operation among (+, -, *, /, %): ')\n",
    "\n",
    "if operation == '+':\n",
    "    result= num1+num2\n",
    "\n",
    "elif operation == '-':\n",
    "    result= num1-num2\n",
    "\n",
    "elif operation == '*':\n",
    "    result= num1*num2\n",
    "\n",
    "elif operation == '/':\n",
    "    if num2 !=0:\n",
    "        result= num1/num2\n",
    "    else:\n",
    "        result= 'Error: zero division'\n",
    "\n",
    "elif operation == '%':\n",
    "    result= num1 % num2\n",
    "    if result == 0:\n",
    "        print(num1,'is multiple of',num2)\n",
    "    else:\n",
    "        print(num1,'is not multiple of',num2)\n",
    "\n",
    "else:\n",
    "    result= 'Invalid operation'\n",
    "\n",
    "print('Result:',result)\n",
    "\n"
   ]
  },
  {
   "cell_type": "code",
   "execution_count": 7,
   "metadata": {},
   "outputs": [
    {
     "name": "stdout",
     "output_type": "stream",
     "text": [
      "2023 is not a leap year\n"
     ]
    }
   ],
   "source": [
    "## whether a year is Leap Year \n",
    "\n",
    "year=int(input('Enter a year'))\n",
    "\n",
    "if (year % 4)==0:\n",
    "    print(year,'is a leap year')\n",
    "else:\n",
    "    print(year,'is not a leap year')"
   ]
  },
  {
   "cell_type": "code",
   "execution_count": 1,
   "metadata": {},
   "outputs": [
    {
     "name": "stdout",
     "output_type": "stream",
     "text": [
      "Triangle Classification: Scalene, Right Triangle\n"
     ]
    }
   ],
   "source": [
    "# Create a Python script to classify a triangle based on its sides and angles.\n",
    "\n",
    "'''\n",
    "To classify a triangle based on its sides and angles, you can use the following criteria:\n",
    "\n",
    "Equilateral: All three sides are equal.\n",
    "Isosceles: Two sides are equal.\n",
    "Scalene: All three sides are different.\n",
    "Right Triangle: One angle is 90 degrees.\n",
    "Acute Triangle: All angles are less than 90 degrees.\n",
    "Obtuse Triangle: One angle is more than 90 degrees.\n",
    "'''\n",
    "\n",
    "def classify_triangle(a, b, c, angle1, angle2, angle3):\n",
    "    # Check for valid triangle\n",
    "    if angle1 + angle2 + angle3 != 180:\n",
    "        return \"Not a valid triangle\"\n",
    "    \n",
    "    # Check type based on sides\n",
    "    if a == b == c:\n",
    "        side_type = \"Equilateral\"\n",
    "    elif a == b or b == c or a == c:\n",
    "        side_type = \"Isosceles\"\n",
    "    else:\n",
    "        side_type = \"Scalene\"\n",
    "    \n",
    "    # Check type based on angles\n",
    "    if angle1 == 90 or angle2 == 90 or angle3 == 90:\n",
    "        angle_type = \"Right Triangle\"\n",
    "    elif angle1 < 90 and angle2 < 90 and angle3 < 90:\n",
    "        angle_type = \"Acute Triangle\"\n",
    "    else:\n",
    "        angle_type = \"Obtuse Triangle\"\n",
    "    \n",
    "    return f\"Triangle Classification: {side_type}, {angle_type}\"\n",
    "\n",
    "# Test the function\n",
    "a, b, c = 3, 4, 5\n",
    "angle1, angle2, angle3 = 90, 60, 30\n",
    "result = classify_triangle(a, b, c, angle1, angle2, angle3)\n",
    "print(result)\n"
   ]
  },
  {
   "cell_type": "code",
   "execution_count": null,
   "metadata": {},
   "outputs": [],
   "source": []
  }
 ],
 "metadata": {
  "kernelspec": {
   "display_name": "base",
   "language": "python",
   "name": "python3"
  },
  "language_info": {
   "codemirror_mode": {
    "name": "ipython",
    "version": 3
   },
   "file_extension": ".py",
   "mimetype": "text/x-python",
   "name": "python",
   "nbconvert_exporter": "python",
   "pygments_lexer": "ipython3",
   "version": "3.12.4"
  }
 },
 "nbformat": 4,
 "nbformat_minor": 2
}
