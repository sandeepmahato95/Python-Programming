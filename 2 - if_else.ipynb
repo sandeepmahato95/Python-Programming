{
 "cells": [
  {
   "cell_type": "code",
   "execution_count": 27,
   "metadata": {},
   "outputs": [
    {
     "name": "stdout",
     "output_type": "stream",
     "text": [
      "10.0 is not multiple of 3.0\n",
      "Result: 1.0\n"
     ]
    }
   ],
   "source": [
    "## Write a calculator program using 'if-else' condition.\n",
    "\n",
    "num1=float(input('Enter 1st number'))\n",
    "num2=float(input('Enter 2nd number'))\n",
    "operation=input('select an operation among (+, -, *, /, %): ')\n",
    "\n",
    "if operation == '+':\n",
    "    result= num1+num2\n",
    "\n",
    "elif operation == '-':\n",
    "    result= num1-num2\n",
    "\n",
    "elif operation == '*':\n",
    "    result= num1*num2\n",
    "\n",
    "elif operation == '/':\n",
    "    if num2 !=0:\n",
    "        result= num1/num2\n",
    "    else:\n",
    "        result= 'Error: zero division'\n",
    "\n",
    "elif operation == '%':\n",
    "    result= num1 % num2\n",
    "    if result == 0:\n",
    "        print(num1,'is multiple of',num2)\n",
    "    else:\n",
    "        print(num1,'is not multiple of',num2)\n",
    "\n",
    "else:\n",
    "    result= 'Invalid operation'\n",
    "\n",
    "print('Result:',result)\n",
    "\n"
   ]
  },
  {
   "cell_type": "code",
   "execution_count": 7,
   "metadata": {},
   "outputs": [
    {
     "name": "stdout",
     "output_type": "stream",
     "text": [
      "2023 is not a leap year\n"
     ]
    }
   ],
   "source": [
    "## whether a year is Leap Year \n",
    "\n",
    "year=int(input('Enter a year'))\n",
    "\n",
    "if (year % 4)==0:\n",
    "    print(year,'is a leap year')\n",
    "else:\n",
    "    print(year,'is not a leap year')"
   ]
  }
 ],
 "metadata": {
  "kernelspec": {
   "display_name": "base",
   "language": "python",
   "name": "python3"
  },
  "language_info": {
   "codemirror_mode": {
    "name": "ipython",
    "version": 3
   },
   "file_extension": ".py",
   "mimetype": "text/x-python",
   "name": "python",
   "nbconvert_exporter": "python",
   "pygments_lexer": "ipython3",
   "version": "3.12.4"
  }
 },
 "nbformat": 4,
 "nbformat_minor": 2
}
