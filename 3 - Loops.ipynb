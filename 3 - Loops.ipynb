{
 "cells": [
  {
   "cell_type": "code",
   "execution_count": 3,
   "metadata": {},
   "outputs": [
    {
     "name": "stdout",
     "output_type": "stream",
     "text": [
      "range(-2, 5)\n"
     ]
    }
   ],
   "source": [
    "print(range(-2,5))"
   ]
  },
  {
   "cell_type": "code",
   "execution_count": 11,
   "metadata": {},
   "outputs": [
    {
     "name": "stdout",
     "output_type": "stream",
     "text": [
      "0\n",
      "1\n",
      "2\n",
      "3\n",
      "4\n"
     ]
    }
   ],
   "source": [
    "for i in range(5):\n",
    "    print(i)"
   ]
  },
  {
   "cell_type": "code",
   "execution_count": 12,
   "metadata": {},
   "outputs": [
    {
     "name": "stdout",
     "output_type": "stream",
     "text": [
      "-2\n",
      "-1\n",
      "0\n",
      "1\n"
     ]
    }
   ],
   "source": [
    "for i in range(-2,2):\n",
    "    print(i)"
   ]
  },
  {
   "cell_type": "code",
   "execution_count": 8,
   "metadata": {},
   "outputs": [
    {
     "name": "stdout",
     "output_type": "stream",
     "text": [
      "-5\n",
      "-3\n",
      "-1\n",
      "1\n",
      "3\n"
     ]
    }
   ],
   "source": [
    "for i in range(-5,5,2):    # Start, Stop, Step ---> Index meaning in range()\n",
    "    print(i)"
   ]
  },
  {
   "cell_type": "code",
   "execution_count": 12,
   "metadata": {},
   "outputs": [
    {
     "name": "stdout",
     "output_type": "stream",
     "text": [
      "0\n",
      "1\n",
      "2\n",
      "3\n",
      "4\n",
      "5\n"
     ]
    }
   ],
   "source": [
    "for i in range(8):\n",
    "    print(i)\n",
    "    if i==5:\n",
    "        break"
   ]
  },
  {
   "cell_type": "code",
   "execution_count": 13,
   "metadata": {},
   "outputs": [
    {
     "name": "stdout",
     "output_type": "stream",
     "text": [
      "0\n",
      "1\n",
      "2\n",
      "3\n",
      "4\n"
     ]
    }
   ],
   "source": [
    "for i in range(8):\n",
    "    if i==5:\n",
    "        break\n",
    "    print(i)"
   ]
  },
  {
   "cell_type": "code",
   "execution_count": 30,
   "metadata": {},
   "outputs": [
    {
     "name": "stdout",
     "output_type": "stream",
     "text": [
      "i=0 j=0\n",
      "i=0 j=1\n",
      "i=1 j=0\n",
      "i=1 j=1\n",
      "i=2 j=0\n",
      "i=2 j=1\n"
     ]
    }
   ],
   "source": [
    "## # f\"\" string lateral --> variables to be printed in curly braces symbols\n",
    "\n",
    "for i in range(3):\n",
    "    for j in range(2):\n",
    "        print(f'i={i} j={j}')  "
   ]
  },
  {
   "cell_type": "code",
   "execution_count": 2,
   "metadata": {},
   "outputs": [
    {
     "name": "stdout",
     "output_type": "stream",
     "text": [
      "0 apple\n",
      "1 banana\n",
      "2 cherry\n"
     ]
    }
   ],
   "source": [
    "'''To iterate over a sequence with its index, \n",
    "you can use the enumerate() function. It provides both the index and the value of each item in the sequence.'''\n",
    "\n",
    "fruits = [\"apple\", \"banana\", \"cherry\"]\n",
    "for index, fruit in enumerate(fruits):\n",
    "    print(index, fruit)\n"
   ]
  },
  {
   "cell_type": "code",
   "execution_count": 60,
   "metadata": {},
   "outputs": [
    {
     "name": "stdout",
     "output_type": "stream",
     "text": [
      "for first 5 natural numbers, sum= 15\n"
     ]
    }
   ],
   "source": [
    "## calculate sum of first N natural numbrers\n",
    "# using for loop\n",
    "\n",
    "n=int(input())\n",
    "\n",
    "sum=0\n",
    "\n",
    "for i in range(n):\n",
    "    sum+=i\n",
    "\n",
    "print(f'for first {n-1} natural numbers = {sum}')"
   ]
  },
  {
   "cell_type": "code",
   "execution_count": 69,
   "metadata": {},
   "outputs": [
    {
     "name": "stdout",
     "output_type": "stream",
     "text": [
      "for first 5 natural numbers = 15\n"
     ]
    }
   ],
   "source": [
    "## calculate sum of first N natural numbrers\n",
    "# using for loop\n",
    "\n",
    "n=int(input())\n",
    "\n",
    "sum=0\n",
    "\n",
    "for i in range(n+1):\n",
    "    sum+=i\n",
    "\n",
    "print(f'for first {n} natural numbers = {sum}')"
   ]
  },
  {
   "cell_type": "code",
   "execution_count": 72,
   "metadata": {},
   "outputs": [
    {
     "name": "stdout",
     "output_type": "stream",
     "text": [
      "sum of first 5 numbers = 15\n"
     ]
    }
   ],
   "source": [
    "## calculate sum of first N natural numbrers\n",
    "# using while loop\n",
    "\n",
    "n=int(input())\n",
    "sum=0\n",
    "count=1\n",
    "\n",
    "while count<=n:\n",
    "    sum+=count\n",
    "    count+=1\n",
    "\n",
    "print(f\"sum of first {n} numbers = {sum}\")"
   ]
  },
  {
   "cell_type": "code",
   "execution_count": 106,
   "metadata": {},
   "outputs": [
    {
     "name": "stdout",
     "output_type": "stream",
     "text": [
      "for the given number 10, the factors are: 1, 2, 5, 10, "
     ]
    }
   ],
   "source": [
    "## Factors of a given number\n",
    "\n",
    "num=int(input())\n",
    "\n",
    "print(f\"for the given number {num}, the factors are:\", end=\" \")\n",
    "\n",
    "for i in range(1,num+1):\n",
    "    if num % i == 0:\n",
    "       print(i,end=', ')\n"
   ]
  },
  {
   "cell_type": "code",
   "execution_count": 1,
   "metadata": {},
   "outputs": [
    {
     "name": "stdout",
     "output_type": "stream",
     "text": [
      "2\n",
      "3\n",
      "5\n",
      "7\n",
      "11\n",
      "13\n",
      "17\n",
      "19\n",
      "23\n"
     ]
    }
   ],
   "source": [
    "## Prime numbers between 1 and 25\n",
    "\n",
    "num=int(input())\n",
    "for x in range(1,num+1):\n",
    "    if x>1:\n",
    "        for i in range(2,x):\n",
    "            if x%i==0:\n",
    "                break\n",
    "        else:\n",
    "            print(x)\n"
   ]
  },
  {
   "cell_type": "code",
   "execution_count": 1,
   "metadata": {},
   "outputs": [
    {
     "name": "stdout",
     "output_type": "stream",
     "text": [
      "Factorial of 5 is: 120\n"
     ]
    }
   ],
   "source": [
    "'''To calculate the factorial of a number using a while loop, \n",
    "initialize a variable for the result and iteratively multiply it by each number from 1 up to the given number.'''\n",
    "\n",
    "def factorial(n):\n",
    "    result = 1\n",
    "    while n > 0:\n",
    "        result *= n\n",
    "        n -= 1\n",
    "    return result\n",
    "\n",
    "# Test the function\n",
    "number = 5\n",
    "result = factorial(number)\n",
    "print(\"Factorial of\", number, \"is:\", result)\n"
   ]
  },
  {
   "cell_type": "code",
   "execution_count": null,
   "metadata": {},
   "outputs": [],
   "source": []
  }
 ],
 "metadata": {
  "kernelspec": {
   "display_name": "base",
   "language": "python",
   "name": "python3"
  },
  "language_info": {
   "codemirror_mode": {
    "name": "ipython",
    "version": 3
   },
   "file_extension": ".py",
   "mimetype": "text/x-python",
   "name": "python",
   "nbconvert_exporter": "python",
   "pygments_lexer": "ipython3",
   "version": "3.12.4"
  }
 },
 "nbformat": 4,
 "nbformat_minor": 2
}
