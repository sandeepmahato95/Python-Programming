{
 "cells": [
  {
   "cell_type": "code",
   "execution_count": 83,
   "metadata": {},
   "outputs": [
    {
     "name": "stdout",
     "output_type": "stream",
     "text": [
      "['1', '2', '3']\n"
     ]
    }
   ],
   "source": [
    "# String to a List\n",
    "a=list('123')\n",
    "print(a)"
   ]
  },
  {
   "cell_type": "code",
   "execution_count": 84,
   "metadata": {},
   "outputs": [
    {
     "name": "stdout",
     "output_type": "stream",
     "text": [
      "[1, 2, 3]\n"
     ]
    }
   ],
   "source": [
    "# Tuple to a List\n",
    "a=list((1,2,3))\n",
    "print(a)"
   ]
  },
  {
   "cell_type": "code",
   "execution_count": 85,
   "metadata": {},
   "outputs": [
    {
     "name": "stdout",
     "output_type": "stream",
     "text": [
      "first item: ball\n",
      "last item: 14\n",
      "3rd last item: (1+2j)\n",
      "[False, 5.5, 'cat']\n"
     ]
    }
   ],
   "source": [
    "# Accessing List elements by Index\n",
    "\n",
    "item=['ball','cat',True,5.5,1+2j,False,14]\n",
    "\n",
    "print('first item:',item[0])\n",
    "print('last item:',item[-1])\n",
    "print('3rd last item:',item[-3])\n",
    "\n",
    "print(item[5::-2])"
   ]
  },
  {
   "cell_type": "code",
   "execution_count": 45,
   "metadata": {},
   "outputs": [
    {
     "name": "stdout",
     "output_type": "stream",
     "text": [
      "0 red\n",
      "1 green\n",
      "2 blue\n"
     ]
    }
   ],
   "source": [
    "# iterating with Index using *** enumerate() *** built-in function\n",
    "\n",
    "L = ['red', 'green', 'blue']\n",
    "for index,a in enumerate(L):       \n",
    "    print(index,a)\n"
   ]
  },
  {
   "cell_type": "code",
   "execution_count": 33,
   "metadata": {},
   "outputs": [
    {
     "name": "stdout",
     "output_type": "stream",
     "text": [
      "(0, 'red')\n",
      "(1, 'green')\n",
      "(2, 'blue')\n"
     ]
    }
   ],
   "source": [
    "L = ['red', 'green', 'blue']\n",
    "\n",
    "for i in enumerate(L):       \n",
    "    print(i)"
   ]
  },
  {
   "cell_type": "code",
   "execution_count": 56,
   "metadata": {},
   "outputs": [
    {
     "name": "stdout",
     "output_type": "stream",
     "text": [
      "[8, 1, 3, 0, 9, 5, 2, 4, 7]\n"
     ]
    }
   ],
   "source": [
    "L=[7,4,2,5,9,0,3,1,8]\n",
    "L.reverse()\n",
    "print(L)"
   ]
  },
  {
   "cell_type": "code",
   "execution_count": 67,
   "metadata": {},
   "outputs": [
    {
     "name": "stdout",
     "output_type": "stream",
     "text": [
      "[8, 1, 3, 0, 9, 5, 2, 4, 7]\n"
     ]
    }
   ],
   "source": [
    "L=[7,4,2,5,9,0,3,1,8]\n",
    "L1=[0,1]\n",
    "L.reverse()\n",
    "print(L)"
   ]
  },
  {
   "cell_type": "code",
   "execution_count": 71,
   "metadata": {},
   "outputs": [
    {
     "name": "stdout",
     "output_type": "stream",
     "text": [
      "['b', 'a']\n"
     ]
    }
   ],
   "source": [
    "L =['a','b']\n",
    "L.reverse()\n",
    "print(L)"
   ]
  },
  {
   "cell_type": "code",
   "execution_count": 84,
   "metadata": {},
   "outputs": [
    {
     "name": "stdout",
     "output_type": "stream",
     "text": [
      "blue green red -> by For loop\n",
      "['blue', 'green', 'red'] -> by reverse() method\n",
      "['blue', 'green', 'red'] -> by List Comprehension\n"
     ]
    }
   ],
   "source": [
    "# 1. without List Comprehension\n",
    "L = ['red', 'green', 'blue']\n",
    "for x in reversed(L):\n",
    "  print(x,end=' ')\n",
    "print('-> by For loop')\n",
    "\n",
    "# 2. using reverse() method\n",
    "K = ['red', 'green', 'blue']\n",
    "K.reverse() ## reverse() method does not return anything, it just changes the order of items\n",
    "print(K,'-> by reverse() method') # K list in reversed form\n",
    "\n",
    "# 3. with List Comprehension\n",
    "L = ['red', 'green', 'blue']\n",
    "M= [x for x in reversed(L)]\n",
    "print(M,'-> by List Comprehension')"
   ]
  },
  {
   "cell_type": "code",
   "execution_count": 93,
   "metadata": {},
   "outputs": [
    {
     "name": "stdout",
     "output_type": "stream",
     "text": [
      "['RRR', 'EEE', 'DDD']\n",
      "['REDREDRED', 'BLUEBLUEBLUE']\n"
     ]
    }
   ],
   "source": [
    "# List comprehension on string iterable\n",
    "L = [x*3 for x in 'RED']\n",
    "print(L)\n",
    "\n",
    "#List comprehension on tuple iterable\n",
    "L = [x*3 for x in ('RED','BLUE')]\n",
    "print(L)"
   ]
  },
  {
   "cell_type": "code",
   "execution_count": 95,
   "metadata": {},
   "outputs": [
    {
     "name": "stdout",
     "output_type": "stream",
     "text": [
      "[3, 4]\n"
     ]
    }
   ],
   "source": [
    "#List Comprehension with if Clause\n",
    "L = [x for x in range(5) if x >= 3]\n",
    "print(L)"
   ]
  },
  {
   "cell_type": "code",
   "execution_count": 113,
   "metadata": {},
   "outputs": [
    {
     "name": "stdout",
     "output_type": "stream",
     "text": [
      "1\n",
      "2\n",
      "3\n",
      "4\n",
      "5\n",
      "6\n",
      "7\n",
      "8\n",
      "9\n",
      "[1, 2, 3, 4, 5, 6, 7, 8, 9] -> from Nested list Comprehension\n"
     ]
    }
   ],
   "source": [
    "vector = [[1, 2, 3], [4, 5, 6], [7, 8, 9]]\n",
    "\n",
    "for lists in vector:\n",
    "    for num in lists:\n",
    "     print(num)\n",
    "\n",
    "## *** Nested List Comprehension ***\n",
    "\n",
    "#[expression for item1 in iterable1 for item2 in iterable2]\n",
    "L=[num for lists in vector for num in lists]\n",
    "print(L,'-> from Nested list Comprehension')\n",
    "\n"
   ]
  },
  {
   "cell_type": "code",
   "execution_count": 114,
   "metadata": {},
   "outputs": [
    {
     "name": "stdout",
     "output_type": "stream",
     "text": [
      "The intersection is: [3, 4]\n"
     ]
    }
   ],
   "source": [
    "def intersection(lst1, lst2):\n",
    "    return [item for item in lst1 if item in lst2]\n",
    "\n",
    "list1 = [1, 2, 3, 4]\n",
    "list2 = [3, 4, 5, 6]\n",
    "result = intersection(list1, list2)\n",
    "print(\"The intersection is:\", result)"
   ]
  },
  {
   "cell_type": "code",
   "execution_count": 116,
   "metadata": {},
   "outputs": [
    {
     "name": "stdout",
     "output_type": "stream",
     "text": [
      "b'hello'\n"
     ]
    }
   ],
   "source": [
    "data = b\"hello\"\n",
    "print(data)"
   ]
  },
  {
   "cell_type": "code",
   "execution_count": 1,
   "metadata": {},
   "outputs": [
    {
     "name": "stdout",
     "output_type": "stream",
     "text": [
      "The second-largest element is: 45\n"
     ]
    }
   ],
   "source": [
    "'''To find the second-largest element in a list, \n",
    "you can sort the list and then pick the second last element.'''\n",
    "\n",
    "def second_largest(lst):\n",
    "    sorted_lst = sorted(lst)\n",
    "    return sorted_lst[-2]\n",
    "\n",
    "numbers = [10, 20, 4, 45, 99]\n",
    "result = second_largest(numbers)\n",
    "print(\"The second-largest element is:\", result)\n"
   ]
  },
  {
   "cell_type": "code",
   "execution_count": 2,
   "metadata": {},
   "outputs": [
    {
     "name": "stdout",
     "output_type": "stream",
     "text": [
      "The intersection is: [3, 4]\n"
     ]
    }
   ],
   "source": [
    "'''To find the intersection of two lists, \n",
    "we can use a list comprehension along with the in keyword to check common elements.'''\n",
    "\n",
    "def intersection(lst1, lst2):\n",
    "    return [item for item in lst1 if item in lst2]\n",
    "\n",
    "list1 = [1, 2, 3, 4]\n",
    "list2 = [3, 4, 5, 6]\n",
    "result = intersection(list1, list2)\n",
    "print(\"The intersection is:\", result)\n"
   ]
  },
  {
   "cell_type": "code",
   "execution_count": 3,
   "metadata": {},
   "outputs": [
    {
     "name": "stdout",
     "output_type": "stream",
     "text": [
      "List after removing 2: [1, 3, 4, 5]\n"
     ]
    }
   ],
   "source": [
    "'''To remove all occurrences of a specific element from a list, \n",
    "you can use a list comprehension to filter out the unwanted element.'''\n",
    "\n",
    "def remove_element(lst, element):\n",
    "    return [item for item in lst if item != element]\n",
    "\n",
    "numbers = [1, 2, 3, 4, 2, 2, 5]\n",
    "result = remove_element(numbers, 2)\n",
    "print(\"List after removing 2:\", result)\n"
   ]
  },
  {
   "cell_type": "code",
   "execution_count": 7,
   "metadata": {},
   "outputs": [
    {
     "name": "stdout",
     "output_type": "stream",
     "text": [
      "[1, 2, 3, 4]\n",
      "[6, 7, 8, 9, 10]\n"
     ]
    }
   ],
   "source": [
    "## append() adds a single element to the end of the list.\n",
    "lst1 = [1, 2, 3]\n",
    "lst1.append(4)\n",
    "print(lst1)\n",
    "\n",
    "# extend() adds each element from an iterable (like another list) to the end of the list.\n",
    "\n",
    "lst2 = [6, 7, 8]\n",
    "lst2.extend([9, 10])\n",
    "print(lst2)\n"
   ]
  },
  {
   "cell_type": "code",
   "execution_count": null,
   "metadata": {},
   "outputs": [],
   "source": []
  }
 ],
 "metadata": {
  "kernelspec": {
   "display_name": "Python 3",
   "language": "python",
   "name": "python3"
  },
  "language_info": {
   "codemirror_mode": {
    "name": "ipython",
    "version": 3
   },
   "file_extension": ".py",
   "mimetype": "text/x-python",
   "name": "python",
   "nbconvert_exporter": "python",
   "pygments_lexer": "ipython3",
   "version": "3.12.0"
  }
 },
 "nbformat": 4,
 "nbformat_minor": 2
}
