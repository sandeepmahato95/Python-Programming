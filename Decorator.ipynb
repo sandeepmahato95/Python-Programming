{
 "cells": [
  {
   "cell_type": "code",
   "execution_count": 2,
   "metadata": {},
   "outputs": [
    {
     "name": "stdout",
     "output_type": "stream",
     "text": [
      "HELLO\n"
     ]
    }
   ],
   "source": [
    "# What is a decorator in Python?\n",
    "\n",
    "'''A decorator in Python is a way to modify or enhance a function without changing its source code. \n",
    "It's a function that takes another function as input and extends its behavior.'''\n",
    "\n",
    "def uppercase_decorator(func):\n",
    "    def wrapper():\n",
    "        result = func()\n",
    "        return result.upper()\n",
    "    return wrapper\n",
    "\n",
    "@uppercase_decorator\n",
    "def greet():\n",
    "    return \"hello\"\n",
    "\n",
    "print(greet())  # Output: HELLO\n",
    "\n",
    "# In this case, the uppercase_decorator modifies the greet function to return its result in uppercase."
   ]
  },
  {
   "cell_type": "code",
   "execution_count": 4,
   "metadata": {},
   "outputs": [
    {
     "name": "stdout",
     "output_type": "stream",
     "text": [
      "Hello, Alice!\n",
      "Hello, Alice!\n",
      "Hello, Alice!\n"
     ]
    }
   ],
   "source": [
    "# How can you create a decorator that takes arguments?\n",
    "\n",
    "'''To create a decorator that takes arguments, you need to add an extra layer of function nesting. \n",
    "The outermost function takes the decorator arguments, the middle function takes the function to be decorated, \n",
    "and the innermost function is the wrapper that modifies the behavior.'''\n",
    "\n",
    "def repeat(times):\n",
    "    def decorator(func):\n",
    "        def wrapper(*args, **kwargs):\n",
    "            for _ in range(times):\n",
    "                result = func(*args, **kwargs)\n",
    "            return result\n",
    "        return wrapper\n",
    "    return decorator\n",
    "\n",
    "@repeat(3)\n",
    "def say_hello(name):\n",
    "    print(f\"Hello, {name}!\")\n",
    "\n",
    "say_hello(\"Alice\")"
   ]
  },
  {
   "cell_type": "code",
   "execution_count": 5,
   "metadata": {},
   "outputs": [
    {
     "name": "stdout",
     "output_type": "stream",
     "text": [
      "Before calling the function\n",
      "Hello, Alice!\n",
      "After calling the function\n",
      "Function name: greet\n",
      "Function docstring: Greets a person by name.\n"
     ]
    }
   ],
   "source": [
    "# Explain the functools.wraps decorator and its significance.\n",
    "\n",
    "'''The functools.wraps decorator is used to preserve the metadata of the original function when it is decorated by another function. \n",
    "This is important because, by default, when you apply a decorator to a function, some of the function's metadata—like its name (__name__), docstring (__doc__), \n",
    "and other attributes—are replaced by those of the wrapper function.'''\n",
    "\n",
    "from functools import wraps\n",
    "\n",
    "def my_decorator(func):\n",
    "    @wraps(func)\n",
    "    def wrapper(*args, **kwargs):\n",
    "        print(\"Before calling the function\")\n",
    "        result = func(*args, **kwargs)\n",
    "        print(\"After calling the function\")\n",
    "        return result\n",
    "    return wrapper\n",
    "\n",
    "@my_decorator\n",
    "def greet(name):\n",
    "    \"\"\"Greets a person by name.\"\"\"\n",
    "    print(f\"Hello, {name}!\")\n",
    "\n",
    "# Test the decorated function\n",
    "greet(\"Alice\")\n",
    "\n",
    "# Checking the metadata\n",
    "print(\"Function name:\", greet.__name__)\n",
    "print(\"Function docstring:\", greet.__doc__)\n",
    "\n",
    "'''The functools.wraps decorator is essential for writing clean, maintainable, and debuggable code when using decorators in Python. \n",
    "It ensures that the decorated function's metadata is preserved, keeping the original function’s identity intact.'''\n"
   ]
  },
  {
   "cell_type": "code",
   "execution_count": 6,
   "metadata": {},
   "outputs": [
    {
     "name": "stdout",
     "output_type": "stream",
     "text": [
      "Calling add with args: (5, 7), kwargs: {}\n",
      "add returned: 12\n"
     ]
    }
   ],
   "source": [
    "# Write a decorator that logs the parameters and return value of a function.\n",
    "\n",
    "'''To create a decorator that logs the parameters passed to a function and its return value, \n",
    "we can use the functools.wraps decorator to preserve the original function's metadata, \n",
    "and then define a wrapper function inside the decorator to handle the logging.'''\n",
    "\n",
    "import functools\n",
    "\n",
    "def log_parameters_and_return(func):\n",
    "    \"\"\"\n",
    "    A decorator that logs the parameters and return value of a function.\n",
    "\n",
    "    Args:\n",
    "        func (function): The function to be decorated.\n",
    "\n",
    "    Returns:\n",
    "        wrapper (function): The wrapped function with logging.\n",
    "    \"\"\"\n",
    "    @functools.wraps(func)\n",
    "    def wrapper(*args, **kwargs):\n",
    "        # Log the function name and arguments\n",
    "        print(f\"Calling {func.__name__} with args: {args}, kwargs: {kwargs}\")\n",
    "        \n",
    "        # Call the original function and store the result\n",
    "        result = func(*args, **kwargs)\n",
    "        \n",
    "        # Log the return value\n",
    "        print(f\"{func.__name__} returned: {result}\")\n",
    "        \n",
    "        # Return the result\n",
    "        return result\n",
    "    \n",
    "    return wrapper\n",
    "\n",
    "# Example usage of the decorator\n",
    "@log_parameters_and_return\n",
    "def add(a, b):\n",
    "    \"\"\"Adds two numbers together.\"\"\"\n",
    "    return a + b\n",
    "\n",
    "# Test the decorated function\n",
    "result = add(5, 7)\n"
   ]
  },
  {
   "cell_type": "code",
   "execution_count": 7,
   "metadata": {},
   "outputs": [
    {
     "name": "stdout",
     "output_type": "stream",
     "text": [
      "slow_function executed in 2.0007 seconds\n"
     ]
    },
    {
     "data": {
      "text/plain": [
       "'Slept for 2 seconds'"
      ]
     },
     "execution_count": 7,
     "metadata": {},
     "output_type": "execute_result"
    }
   ],
   "source": [
    "# Implement a program that uses a decorator to measure the execution time of a function.\n",
    "\n",
    "'''To measure the execution time of a function using a decorator, \n",
    "you can use the time module in Python, which provides the time() function to get the current time in seconds. \n",
    "The decorator will record the time before and after the function executes, \n",
    "then calculate the difference to determine the execution time.'''\n",
    "\n",
    "import time\n",
    "import functools\n",
    "\n",
    "def measure_execution_time(func):\n",
    "    \"\"\"\n",
    "    A decorator that measures the execution time of a function.\n",
    "\n",
    "    Args:\n",
    "        func (function): The function to be decorated.\n",
    "\n",
    "    Returns:\n",
    "        wrapper (function): The wrapped function that measures execution time.\n",
    "    \"\"\"\n",
    "    @functools.wraps(func)\n",
    "    def wrapper(*args, **kwargs):\n",
    "        # Record the start time\n",
    "        start_time = time.time()\n",
    "        \n",
    "        # Execute the original function\n",
    "        result = func(*args, **kwargs)\n",
    "        \n",
    "        # Record the end time\n",
    "        end_time = time.time()\n",
    "        \n",
    "        # Calculate the execution time\n",
    "        execution_time = end_time - start_time\n",
    "        \n",
    "        # Log the execution time\n",
    "        print(f\"{func.__name__} executed in {execution_time:.4f} seconds\")\n",
    "        \n",
    "        # Return the result of the function\n",
    "        return result\n",
    "    \n",
    "    return wrapper\n",
    "\n",
    "# Example usage of the decorator\n",
    "@measure_execution_time\n",
    "def slow_function(duration):\n",
    "    \"\"\"A function that sleeps for a given number of seconds.\"\"\"\n",
    "    time.sleep(duration)\n",
    "    return f\"Slept for {duration} seconds\"\n",
    "\n",
    "# Test the decorated function\n",
    "slow_function(2)\n"
   ]
  },
  {
   "cell_type": "code",
   "execution_count": 8,
   "metadata": {},
   "outputs": [
    {
     "name": "stdout",
     "output_type": "stream",
     "text": [
      "HELLO, SANDEEP\n"
     ]
    }
   ],
   "source": [
    "# Create a decorator that converts the result of a function to uppercase.\n",
    "\n",
    "'''To create a decorator that converts the result of a function to uppercase, \n",
    "you can define a decorator function that wraps the original function, calls it, \n",
    "and then converts its return value to uppercase using the upper() method.'''\n",
    "\n",
    "import functools\n",
    "\n",
    "def uppercase_result(func):\n",
    "    \"\"\"\n",
    "    A decorator that converts the result of a function to uppercase.\n",
    "\n",
    "    Args:\n",
    "        func (function): The function to be decorated.\n",
    "\n",
    "    Returns:\n",
    "        wrapper (function): The wrapped function that converts the result to uppercase.\n",
    "    \"\"\"\n",
    "    @functools.wraps(func)\n",
    "    def wrapper(*args, **kwargs):\n",
    "        # Call the original function\n",
    "        result = func(*args, **kwargs)\n",
    "        \n",
    "        # Convert the result to uppercase if it's a string\n",
    "        if isinstance(result, str):\n",
    "            result = result.upper()\n",
    "        \n",
    "        # Return the modified result\n",
    "        return result\n",
    "    \n",
    "    return wrapper\n",
    "\n",
    "# Example usage of the decorator\n",
    "@uppercase_result\n",
    "def greet(name):\n",
    "    \"\"\"Returns a greeting message.\"\"\"\n",
    "    return f\"Hello, {name}\"\n",
    "\n",
    "# Test the decorated function\n",
    "print(greet(\"Sandeep\"))"
   ]
  }
 ],
 "metadata": {
  "kernelspec": {
   "display_name": "Python 3",
   "language": "python",
   "name": "python3"
  },
  "language_info": {
   "codemirror_mode": {
    "name": "ipython",
    "version": 3
   },
   "file_extension": ".py",
   "mimetype": "text/x-python",
   "name": "python",
   "nbconvert_exporter": "python",
   "pygments_lexer": "ipython3",
   "version": "3.12.0"
  }
 },
 "nbformat": 4,
 "nbformat_minor": 2
}
