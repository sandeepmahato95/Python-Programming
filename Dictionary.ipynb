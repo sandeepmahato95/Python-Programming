{
 "cells": [
  {
   "cell_type": "code",
   "execution_count": 1,
   "metadata": {},
   "outputs": [
    {
     "name": "stdout",
     "output_type": "stream",
     "text": [
      "Key: name, Value: Alice\n",
      "Key: age, Value: 30\n",
      "Key: city, Value: New York\n"
     ]
    }
   ],
   "source": [
    "def iterate_dictionary_items(dictionary):\n",
    "    for key, value in dictionary.items():\n",
    "        print(f\"Key: {key}, Value: {value}\")\n",
    "\n",
    "# Test the function\n",
    "my_dict = {'name': 'Alice', 'age': 30, 'city': 'New York'}\n",
    "iterate_dictionary_items(my_dict)\n"
   ]
  },
  {
   "cell_type": "code",
   "execution_count": 4,
   "metadata": {},
   "outputs": [
    {
     "name": "stdout",
     "output_type": "stream",
     "text": [
      "name Bob\n",
      "age 25\n",
      "job Dev\n"
     ]
    }
   ],
   "source": [
    "# Iterate Through a Dictionary\n",
    "'''\n",
    "1. If you use a dictionary in a for loop, it traverses the keys of the dictionary by default.\n",
    "\n",
    "2. To iterate over the values of a dictionary, index from key to value inside the for loop.\n",
    "'''\n",
    "\n",
    "D = {'name': 'Bob',\n",
    "     'age': 25,\n",
    "     'job': 'Dev'}\n",
    "\n",
    "for x in D:\n",
    "    print(x,D[x])"
   ]
  },
  {
   "cell_type": "code",
   "execution_count": 5,
   "metadata": {},
   "outputs": [
    {
     "name": "stdout",
     "output_type": "stream",
     "text": [
      "Key: name, Value: Alice\n",
      "Key: age, Value: 30\n",
      "Key: city, Value: New York\n"
     ]
    }
   ],
   "source": [
    "'''\n",
    "To iterate over the items of a dictionary, you can use the .items() method. \n",
    "This method returns a view object that displays a list of dictionary's key-value tuple pairs. \n",
    "You can then loop through these pairs using a for loop.'''\n",
    "\n",
    "def iterate_dictionary_items(dictionary):\n",
    "    for key, value in dictionary.items():\n",
    "        print(f\"Key: {key}, Value: {value}\")\n",
    "\n",
    "# Test the function\n",
    "my_dict = {'name': 'Alice', 'age': 30, 'city': 'New York'}\n",
    "iterate_dictionary_items(my_dict)"
   ]
  },
  {
   "cell_type": "code",
   "execution_count": 7,
   "metadata": {},
   "outputs": [
    {
     "name": "stdout",
     "output_type": "stream",
     "text": [
      "Value for 'name': Alice\n",
      "Value for 'address': Not Found\n"
     ]
    }
   ],
   "source": [
    "# Explain the use of the get() method in dictionaries.\n",
    "\n",
    "'''The get() method in dictionaries is used to access the value associated with a given key. \n",
    "It provides a way to safely retrieve values without raising a KeyError if the key does not exist. \n",
    "You can also specify a default value to return if the key is not found.'''\n",
    "\n",
    "def get_value(dictionary, key, default=None):\n",
    "    return dictionary.get(key, default)\n",
    "\n",
    "# Test the function\n",
    "my_dict = {'name': 'Alice', 'age': 30}\n",
    "\n",
    "# Key exists\n",
    "value1 = get_value(my_dict, 'name')          # Returns 'Alice'\n",
    "# Key does not exist\n",
    "value2 = get_value(my_dict, 'address', 'Not Found')  # Returns 'Not Found'\n",
    "\n",
    "print(\"Value for 'name':\", value1)\n",
    "print(\"Value for 'address':\", value2)"
   ]
  },
  {
   "cell_type": "code",
   "execution_count": 8,
   "metadata": {},
   "outputs": [
    {
     "name": "stdout",
     "output_type": "stream",
     "text": [
      "Merged dictionary: {'a': 1, 'b': 3, 'c': 4}\n"
     ]
    }
   ],
   "source": [
    "# how can you merge two dictionaries in Python 3.5 and above?\n",
    "\n",
    "'''\n",
    "1. Using the ** Unpacking Operator (Python 3.5+):\n",
    "\n",
    "This method creates a new dictionary containing the merged contents of the two dictionaries. \n",
    "If there are overlapping keys, values from the second dictionary will overwrite those from the first.\n",
    "'''\n",
    "\n",
    "dict1 = {'a': 1, 'b': 2}\n",
    "dict2 = {'b': 3, 'c': 4}\n",
    "\n",
    "merged_dict = {**dict1, **dict2}\n",
    "print(\"Merged dictionary:\", merged_dict)"
   ]
  },
  {
   "cell_type": "code",
   "execution_count": 9,
   "metadata": {},
   "outputs": [
    {
     "name": "stdout",
     "output_type": "stream",
     "text": [
      "Merged dictionary: {'a': 1, 'b': 3, 'c': 4}\n"
     ]
    }
   ],
   "source": [
    "## how can you merge two dictionaries in Python 3.5 and above?\n",
    "'''\n",
    "2. Using the update() Method:\n",
    "\n",
    "This method updates the first dictionary with the keys and values from the second dictionary. \n",
    "If there are overlapping keys, values from the second dictionary will overwrite those in the first.\n",
    "'''\n",
    "\n",
    "dict1 = {'a': 1, 'b': 2}\n",
    "dict2 = {'b': 3, 'c': 4}\n",
    "\n",
    "# Make a copy of dict1 to merge into\n",
    "merged_dict = dict1.copy()\n",
    "merged_dict.update(dict2)\n",
    "print(\"Merged dictionary:\", merged_dict)"
   ]
  },
  {
   "cell_type": "code",
   "execution_count": 10,
   "metadata": {},
   "outputs": [
    {
     "name": "stdout",
     "output_type": "stream",
     "text": [
      "Concatenated dictionary: {'a': 1, 'b': 2, 'c': 3, 'd': 4, 'e': 5}\n"
     ]
    }
   ],
   "source": [
    "# Write a Python script to concatenate dictionaries.\n",
    "\n",
    "# Direct concatenation using the | operator\n",
    "dict1 = {'a': 1, 'b': 2}\n",
    "dict2 = {'c': 3, 'd': 4}\n",
    "dict3 = {'e': 5}\n",
    "\n",
    "concatenated_dict = dict1 | dict2 | dict3\n",
    "print(\"Concatenated dictionary:\", concatenated_dict)"
   ]
  },
  {
   "cell_type": "code",
   "execution_count": 11,
   "metadata": {},
   "outputs": [
    {
     "name": "stdout",
     "output_type": "stream",
     "text": [
      "Key with the maximum value: b\n"
     ]
    }
   ],
   "source": [
    "def key_with_max_value(dictionary):\n",
    "    if not dictionary:\n",
    "        return None  # Return None if the dictionary is empty\n",
    "    return max(dictionary, key=dictionary.get)\n",
    "\n",
    "# Test the function\n",
    "my_dict = {'a': 10, 'b': 20, 'c': 15}\n",
    "max_key = key_with_max_value(my_dict)\n",
    "print(\"Key with the maximum value:\", max_key)"
   ]
  },
  {
   "cell_type": "code",
   "execution_count": 14,
   "metadata": {},
   "outputs": [
    {
     "name": "stdout",
     "output_type": "stream",
     "text": [
      "Key with the maximum value: b\n"
     ]
    }
   ],
   "source": [
    "# Create a function to find the key with the maximum value in a dictionary.\n",
    "\n",
    "'''\n",
    "1. To find the key with the maximum value in a dictionary, you can use the max() function with a custom key argument. \n",
    "2. This function will return the key associated with the highest value.\n",
    "'''\n",
    "'''\n",
    "max(dictionary, key=dictionary.get): Finds the key with the maximum value.\n",
    "dictionary.get: The get method is used to access dictionary values, which allows max() to compare values.\n",
    "Handles Empty Dictionaries: Returns None if the dictionary is empty.\n",
    "'''\n",
    "def key_with_max_value(dictionary):\n",
    "    if not dictionary:\n",
    "        return None  # Return None if the dictionary is empty\n",
    "    return max(dictionary, key=dictionary.get)\n",
    "\n",
    "# Test the function\n",
    "my_dict = {'a': 10, 'b': 20, 'c': 15}\n",
    "max_key = key_with_max_value(my_dict)\n",
    "print(\"Key with the maximum value:\", max_key)"
   ]
  },
  {
   "cell_type": "code",
   "execution_count": 15,
   "metadata": {},
   "outputs": [
    {
     "name": "stdout",
     "output_type": "stream",
     "text": [
      "Frequency of each element: {'apple': 2, 'banana': 3, 'orange': 1}\n"
     ]
    }
   ],
   "source": [
    "# Implement a program to count the frequency of each element in a list using a dictionary.\n",
    "\n",
    "def count_frequencies(elements):\n",
    "    frequency = {}\n",
    "    for item in elements:\n",
    "        if item in frequency:\n",
    "            frequency[item] += 1\n",
    "        else:\n",
    "            frequency[item] = 1\n",
    "    return frequency\n",
    "\n",
    "# Test the function\n",
    "my_list = ['apple', 'banana', 'apple', 'orange', 'banana', 'banana']\n",
    "frequency_count = count_frequencies(my_list)\n",
    "print(\"Frequency of each element:\", frequency_count)"
   ]
  }
 ],
 "metadata": {
  "kernelspec": {
   "display_name": "Python 3",
   "language": "python",
   "name": "python3"
  },
  "language_info": {
   "codemirror_mode": {
    "name": "ipython",
    "version": 3
   },
   "file_extension": ".py",
   "mimetype": "text/x-python",
   "name": "python",
   "nbconvert_exporter": "python",
   "pygments_lexer": "ipython3",
   "version": "3.12.0"
  }
 },
 "nbformat": 4,
 "nbformat_minor": 2
}
