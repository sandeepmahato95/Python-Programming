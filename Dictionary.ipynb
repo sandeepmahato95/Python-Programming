{
 "cells": [
  {
   "cell_type": "code",
   "execution_count": 10,
   "metadata": {},
   "outputs": [
    {
     "name": "stdout",
     "output_type": "stream",
     "text": [
      "{'a': 1, 'b': 2, 'c': 3}\n",
      "dict_keys(['a', 'b', 'c'])\n",
      "dict_values([1, 2, 3])\n"
     ]
    },
    {
     "data": {
      "text/plain": [
       "3"
      ]
     },
     "execution_count": 10,
     "metadata": {},
     "output_type": "execute_result"
    }
   ],
   "source": [
    "dict1={\n",
    "    'a':1,\n",
    "    'b':2,\n",
    "    'c':3\n",
    "}\n",
    "\n",
    "print(dict1)\n",
    "\n",
    "print(dict1.keys())\n",
    "print(dict1.values())"
   ]
  },
  {
   "cell_type": "code",
   "execution_count": 12,
   "metadata": {},
   "outputs": [
    {
     "name": "stdout",
     "output_type": "stream",
     "text": [
      "{1: 'a', 2: 'b', 3: 'c'}\n",
      "dict_keys([1, 2, 3])\n",
      "dict_values(['a', 'b', 'c'])\n"
     ]
    },
    {
     "data": {
      "text/plain": [
       "'b'"
      ]
     },
     "execution_count": 12,
     "metadata": {},
     "output_type": "execute_result"
    }
   ],
   "source": [
    "dict1={\n",
    "    1:'a',\n",
    "    2:'b',\n",
    "    3:'c'\n",
    "}\n",
    "\n",
    "print(dict1)\n",
    "\n",
    "print(dict1.keys())\n",
    "print(dict1.values())\n",
    "dict1[2]"
   ]
  },
  {
   "cell_type": "code",
   "execution_count": 22,
   "metadata": {},
   "outputs": [
    {
     "name": "stdout",
     "output_type": "stream",
     "text": [
      "{1: 'a', 2: 'b', 3: 'c', 4: 'd'}\n"
     ]
    }
   ],
   "source": [
    "# Adding Dictionary element\n",
    "dict1[4]='d'\n",
    "print(dict1)"
   ]
  },
  {
   "cell_type": "code",
   "execution_count": 1,
   "metadata": {},
   "outputs": [
    {
     "name": "stdout",
     "output_type": "stream",
     "text": [
      "Key: name, Value: Alice\n",
      "Key: age, Value: 30\n",
      "Key: city, Value: New York\n"
     ]
    }
   ],
   "source": [
    "def iterate_dictionary_items(dictionary):\n",
    "    for key, value in dictionary.items():\n",
    "        print(f\"Key: {key}, Value: {value}\")\n",
    "\n",
    "# Test the function\n",
    "my_dict = {'name': 'Alice', 'age': 30, 'city': 'New York'}\n",
    "iterate_dictionary_items(my_dict)\n"
   ]
  },
  {
   "cell_type": "code",
   "execution_count": 4,
   "metadata": {},
   "outputs": [
    {
     "name": "stdout",
     "output_type": "stream",
     "text": [
      "name Bob\n",
      "age 25\n",
      "job Dev\n"
     ]
    }
   ],
   "source": [
    "# Iterate Through a Dictionary\n",
    "'''\n",
    "1. If you use a dictionary in a for loop, it traverses the keys of the dictionary by default.\n",
    "\n",
    "2. To iterate over the values of a dictionary, index from key to value inside the for loop.\n",
    "'''\n",
    "\n",
    "D = {'name': 'Bob',\n",
    "     'age': 25,\n",
    "     'job': 'Dev'}\n",
    "\n",
    "for x in D:\n",
    "    print(x,D[x])"
   ]
  },
  {
   "cell_type": "code",
   "execution_count": 5,
   "metadata": {},
   "outputs": [
    {
     "name": "stdout",
     "output_type": "stream",
     "text": [
      "Key: name, Value: Alice\n",
      "Key: age, Value: 30\n",
      "Key: city, Value: New York\n"
     ]
    }
   ],
   "source": [
    "'''\n",
    "To iterate over the items of a dictionary, you can use the .items() method. \n",
    "This method returns a view object that displays a list of dictionary's key-value tuple pairs. \n",
    "You can then loop through these pairs using a for loop.'''\n",
    "\n",
    "def iterate_dictionary_items(dictionary):\n",
    "    for key, value in dictionary.items():\n",
    "        print(f\"Key: {key}, Value: {value}\")\n",
    "\n",
    "# Test the function\n",
    "my_dict = {'name': 'Alice', 'age': 30, 'city': 'New York'}\n",
    "iterate_dictionary_items(my_dict)"
   ]
  },
  {
   "cell_type": "code",
   "execution_count": 7,
   "metadata": {},
   "outputs": [
    {
     "name": "stdout",
     "output_type": "stream",
     "text": [
      "Value for 'name': Alice\n",
      "Value for 'address': Not Found\n"
     ]
    }
   ],
   "source": [
    "# Explain the use of the get() method in dictionaries.\n",
    "\n",
    "'''The get() method in dictionaries is used to access the value associated with a given key. \n",
    "It provides a way to safely retrieve values without raising a KeyError if the key does not exist. \n",
    "You can also specify a default value to return if the key is not found.'''\n",
    "\n",
    "def get_value(dictionary, key, default=None):\n",
    "    return dictionary.get(key, default)\n",
    "\n",
    "# Test the function\n",
    "my_dict = {'name': 'Alice', 'age': 30}\n",
    "\n",
    "# Key exists\n",
    "value1 = get_value(my_dict, 'name')          # Returns 'Alice'\n",
    "# Key does not exist\n",
    "value2 = get_value(my_dict, 'address', 'Not Found')  # Returns 'Not Found'\n",
    "\n",
    "print(\"Value for 'name':\", value1)\n",
    "print(\"Value for 'address':\", value2)"
   ]
  },
  {
   "cell_type": "code",
   "execution_count": 8,
   "metadata": {},
   "outputs": [
    {
     "name": "stdout",
     "output_type": "stream",
     "text": [
      "Merged dictionary: {'a': 1, 'b': 3, 'c': 4}\n"
     ]
    }
   ],
   "source": [
    "# how can you merge two dictionaries in Python 3.5 and above?\n",
    "\n",
    "'''\n",
    "1. Using the ** Unpacking Operator (Python 3.5+):\n",
    "\n",
    "This method creates a new dictionary containing the merged contents of the two dictionaries. \n",
    "If there are overlapping keys, values from the second dictionary will overwrite those from the first.\n",
    "'''\n",
    "\n",
    "dict1 = {'a': 1, 'b': 2}\n",
    "dict2 = {'b': 3, 'c': 4}\n",
    "\n",
    "merged_dict = {**dict1, **dict2}\n",
    "print(\"Merged dictionary:\", merged_dict)"
   ]
  },
  {
   "cell_type": "code",
   "execution_count": 9,
   "metadata": {},
   "outputs": [
    {
     "name": "stdout",
     "output_type": "stream",
     "text": [
      "Merged dictionary: {'a': 1, 'b': 3, 'c': 4}\n"
     ]
    }
   ],
   "source": [
    "## how can you merge two dictionaries in Python 3.5 and above?\n",
    "'''\n",
    "2. Using the update() Method:\n",
    "\n",
    "This method updates the first dictionary with the keys and values from the second dictionary. \n",
    "If there are overlapping keys, values from the second dictionary will overwrite those in the first.\n",
    "'''\n",
    "\n",
    "dict1 = {'a': 1, 'b': 2}\n",
    "dict2 = {'b': 3, 'c': 4}\n",
    "\n",
    "# Make a copy of dict1 to merge into\n",
    "merged_dict = dict1.copy()\n",
    "merged_dict.update(dict2)\n",
    "print(\"Merged dictionary:\", merged_dict)"
   ]
  },
  {
   "cell_type": "code",
   "execution_count": 10,
   "metadata": {},
   "outputs": [
    {
     "name": "stdout",
     "output_type": "stream",
     "text": [
      "Concatenated dictionary: {'a': 1, 'b': 2, 'c': 3, 'd': 4, 'e': 5}\n"
     ]
    }
   ],
   "source": [
    "# Write a Python script to concatenate dictionaries.\n",
    "\n",
    "# Direct concatenation using the | operator\n",
    "dict1 = {'a': 1, 'b': 2}\n",
    "dict2 = {'c': 3, 'd': 4}\n",
    "dict3 = {'e': 5}\n",
    "\n",
    "concatenated_dict = dict1 | dict2 | dict3\n",
    "print(\"Concatenated dictionary:\", concatenated_dict)"
   ]
  },
  {
   "cell_type": "code",
   "execution_count": 11,
   "metadata": {},
   "outputs": [
    {
     "name": "stdout",
     "output_type": "stream",
     "text": [
      "Key with the maximum value: b\n"
     ]
    }
   ],
   "source": [
    "def key_with_max_value(dictionary):\n",
    "    if not dictionary:\n",
    "        return None  # Return None if the dictionary is empty\n",
    "    return max(dictionary, key=dictionary.get)\n",
    "\n",
    "# Test the function\n",
    "my_dict = {'a': 10, 'b': 20, 'c': 15}\n",
    "max_key = key_with_max_value(my_dict)\n",
    "print(\"Key with the maximum value:\", max_key)"
   ]
  },
  {
   "cell_type": "code",
   "execution_count": 14,
   "metadata": {},
   "outputs": [
    {
     "name": "stdout",
     "output_type": "stream",
     "text": [
      "Key with the maximum value: b\n"
     ]
    }
   ],
   "source": [
    "# Create a function to find the key with the maximum value in a dictionary.\n",
    "\n",
    "'''\n",
    "1. To find the key with the maximum value in a dictionary, you can use the max() function with a custom key argument. \n",
    "2. This function will return the key associated with the highest value.\n",
    "'''\n",
    "'''\n",
    "max(dictionary, key=dictionary.get): Finds the key with the maximum value.\n",
    "dictionary.get: The get method is used to access dictionary values, which allows max() to compare values.\n",
    "Handles Empty Dictionaries: Returns None if the dictionary is empty.\n",
    "'''\n",
    "def key_with_max_value(dictionary):\n",
    "    if not dictionary:\n",
    "        return None  # Return None if the dictionary is empty\n",
    "    return max(dictionary, key=dictionary.get)\n",
    "\n",
    "# Test the function\n",
    "my_dict = {'a': 10, 'b': 20, 'c': 15}\n",
    "max_key = key_with_max_value(my_dict)\n",
    "print(\"Key with the maximum value:\", max_key)"
   ]
  },
  {
   "cell_type": "code",
   "execution_count": 15,
   "metadata": {},
   "outputs": [
    {
     "name": "stdout",
     "output_type": "stream",
     "text": [
      "Frequency of each element: {'apple': 2, 'banana': 3, 'orange': 1}\n"
     ]
    }
   ],
   "source": [
    "# Implement a program to count the frequency of each element in a list using a dictionary.\n",
    "\n",
    "def count_frequencies(elements):\n",
    "    frequency = {}\n",
    "    for item in elements:\n",
    "        if item in frequency:\n",
    "            frequency[item] += 1\n",
    "        else:\n",
    "            frequency[item] = 1\n",
    "    return frequency\n",
    "\n",
    "# Test the function\n",
    "my_list = ['apple', 'banana', 'apple', 'orange', 'banana', 'banana']\n",
    "frequency_count = count_frequencies(my_list)\n",
    "print(\"Frequency of each element:\", frequency_count)"
   ]
  },
  {
   "cell_type": "markdown",
   "metadata": {},
   "source": [
    "If you wanted to store ice cream flavor descriptions using lists, you would have something like this:"
   ]
  },
  {
   "cell_type": "code",
   "execution_count": 23,
   "metadata": {},
   "outputs": [],
   "source": [
    "ice_cream_flavors = [\n",
    "    \"Vanilla: Classic and creamy with a rich, smooth flavor from real vanilla beans.\",\n",
    "    \"Chocolate: Deep and indulgent, made with rich cocoa for a satisfying chocolate experience.\",\n",
    "    \"Strawberry: Sweet and fruity, bursting with the fresh taste of ripe strawberries.\",\n",
    "    \"Mint Chocolate Chip: Refreshing mint ice cream studded with decadent chocolate chips.\",\n",
    "    \"Cookie Dough: Vanilla ice cream loaded with chunks of chocolate chip cookie dough.\",\n",
    "    \"Salted Caramel: Sweet and salty with a smooth caramel swirl and a hint of sea salt.\",\n",
    "    \"Pistachio: Nutty and creamy, featuring the distinct taste of real pistachios.\",\n",
    "    \"Cookies and Cream: Vanilla ice cream packed with chunks of chocolate sandwich cookies.\",\n",
    "    \"Mango: Tropical and tangy, made with juicy mangoes for a refreshing treat.\",\n",
    "    \"Rocky Road: Chocolate ice cream mixed with marshmallows, nuts, and chocolate chunks.\"\n",
    "]"
   ]
  },
  {
   "cell_type": "markdown",
   "metadata": {},
   "source": [
    "Using dictionary"
   ]
  },
  {
   "cell_type": "code",
   "execution_count": 24,
   "metadata": {},
   "outputs": [],
   "source": [
    "ice_cream_flavors = {\n",
    "    \"Mint Chocolate Chip\": \"Refreshing mint ice cream studded with decadent chocolate chips.\",\n",
    "    \"Cookie Dough\": \"Vanilla ice cream loaded with chunks of chocolate chip cookie dough.\",\n",
    "    \"Salted Caramel\": \"Sweet and salty with a smooth caramel swirl and a hint of sea salt.\"\n",
    "}   "
   ]
  },
  {
   "cell_type": "markdown",
   "metadata": {},
   "source": [
    "Using dictionaries to complete high priority tasks"
   ]
  },
  {
   "cell_type": "code",
   "execution_count": 25,
   "metadata": {},
   "outputs": [],
   "source": [
    "#task example, large list not ordered by priority. Want to prioritize\n",
    "list_of_tasks = [\n",
    "    \"Compose a brief email to my boss explaining that I will be late for tomorrow's meeting.\",\n",
    "    \"Write a birthday poem for Otto, celebrating his 28th birthday.\",\n",
    "    \"Write a 300-word review of the movie 'The Arrival'.\",\n",
    "    \"Draft a thank-you note for my neighbor Dapinder who helped water my plants while I was on vacation.\",\n",
    "    \"Create an outline for a presentation on the benefits of remote work.\"\n",
    "]"
   ]
  },
  {
   "cell_type": "code",
   "execution_count": 26,
   "metadata": {},
   "outputs": [],
   "source": [
    "#instead of that unorganized large list, divide tasks by priority\n",
    "high_priority_tasks = [\n",
    "    \"Compose a brief email to my boss explaining that I will be late for tomorrow's meeting.\",\n",
    "    \"Create an outline for a presentation on the benefits of remote work.\"\n",
    "]\n",
    "\n",
    "medium_priority_tasks = [\n",
    "    \"Write a birthday poem for Otto, celebrating his 28th birthday.\",\n",
    "    \"Draft a thank-you note for my neighbor Dapinder who helped water my plants while I was on vacation.\"\n",
    "]\n",
    "\n",
    "low_priority_tasks = [\n",
    "    \"Write a 300-word review of the movie 'The Arrival'.\"\n",
    "]"
   ]
  },
  {
   "cell_type": "markdown",
   "metadata": {},
   "source": [
    "create dictionary with all tasks"
   ]
  },
  {
   "cell_type": "code",
   "execution_count": 37,
   "metadata": {},
   "outputs": [
    {
     "name": "stdout",
     "output_type": "stream",
     "text": [
      "{'1high_priority': [\"Compose a brief email to my boss explaining that I will be late for tomorrow's meeting.\", 'Create an outline for a presentation on the benefits of remote work.'], '2medium_priority': ['Write a birthday poem for Otto, celebrating his 28th birthday.', 'Draft a thank-you note for my neighbor Dapinder who helped water my plants while I was on vacation.'], '3low_priority': [\"Write a 300-word review of the movie 'The Arrival'.\"]}\n"
     ]
    }
   ],
   "source": [
    "prioritized_tasks = {\n",
    "    \"1high_priority\": high_priority_tasks,\n",
    "    \"2medium_priority\": medium_priority_tasks,\n",
    "    \"3low_priority\": low_priority_tasks\n",
    "}\n",
    "\n",
    "print(prioritized_tasks)"
   ]
  },
  {
   "cell_type": "code",
   "execution_count": 40,
   "metadata": {},
   "outputs": [
    {
     "name": "stdout",
     "output_type": "stream",
     "text": [
      "1high_priority\n",
      "2medium_priority\n",
      "3low_priority\n"
     ]
    }
   ],
   "source": [
    "# here For loop prints 'Keys' only\n",
    "for task in prioritized_tasks:\n",
    "    print(task)"
   ]
  },
  {
   "cell_type": "code",
   "execution_count": 41,
   "metadata": {},
   "outputs": [
    {
     "name": "stdout",
     "output_type": "stream",
     "text": [
      "Compose a brief email to my boss explaining that I will be late for tomorrow's meeting.\n",
      "Create an outline for a presentation on the benefits of remote work.\n"
     ]
    }
   ],
   "source": [
    "# here For loop prints 'Values' of 1st key\n",
    "for task in prioritized_tasks['1high_priority']:\n",
    "    print(task)"
   ]
  }
 ],
 "metadata": {
  "kernelspec": {
   "display_name": "Python 3",
   "language": "python",
   "name": "python3"
  },
  "language_info": {
   "codemirror_mode": {
    "name": "ipython",
    "version": 3
   },
   "file_extension": ".py",
   "mimetype": "text/x-python",
   "name": "python",
   "nbconvert_exporter": "python",
   "pygments_lexer": "ipython3",
   "version": "3.12.0"
  }
 },
 "nbformat": 4,
 "nbformat_minor": 2
}
