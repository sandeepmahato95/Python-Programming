{
 "cells": [
  {
   "cell_type": "code",
   "execution_count": 1,
   "metadata": {},
   "outputs": [
    {
     "name": "stdout",
     "output_type": "stream",
     "text": [
      "5\n",
      "4\n",
      "3\n",
      "2\n",
      "1\n"
     ]
    }
   ],
   "source": [
    "# What is a generator in Python?\n",
    "\n",
    "\n",
    "\n",
    "'''A generator in Python is a special type of iterator \n",
    "that allows you to iterate over a sequence of values without creating and storing the entire sequence in memory at once. \n",
    "Generators are used to produce items one at a time and only when needed, \n",
    "which makes them very memory-efficient for large datasets or infinite sequences.'''\n",
    "\n",
    "'''yield Keyword: Generators are defined using the yield keyword instead of return. \n",
    "Each call to yield produces a value and pauses the function’s execution, which can be resumed later.'''\n",
    "\n",
    "def countdown(n):\n",
    "    \"\"\"Yields numbers from n down to 1.\"\"\"\n",
    "    while n > 0:\n",
    "        yield n\n",
    "        n -= 1\n",
    "\n",
    "# Using the generator\n",
    "for number in countdown(5):\n",
    "    print(number)"
   ]
  },
  {
   "cell_type": "code",
   "execution_count": 2,
   "metadata": {},
   "outputs": [
    {
     "name": "stdout",
     "output_type": "stream",
     "text": [
      "[0, 1, 4, 9, 16]\n",
      "0\n",
      "1\n",
      "4\n",
      "9\n",
      "16\n"
     ]
    }
   ],
   "source": [
    "# Explain the difference between a generator function and a regular function\n",
    "\n",
    "'''\n",
    "Generator Function vs. Regular Function:\n",
    "Return vs. Yield:\n",
    "\n",
    "Regular Function: Uses return to return a value and terminate the function. Once a value is returned, the function's execution ends, and it cannot be resumed.\n",
    "Generator Function: Uses yield to produce a value and pause the function's execution. The function can be resumed later to produce more values.\n",
    "Execution Flow:\n",
    "\n",
    "Regular Function: Executes all its code at once and returns a single value (or raises an exception). The entire result is computed before returning.\n",
    "Generator Function: Executes up to the yield statement, returns the yielded value, and pauses. It can be resumed from where it left off to yield more values.\n",
    "Memory Usage:\n",
    "\n",
    "Regular Function: Typically creates and stores all its results in memory before returning them. This can be inefficient for large datasets.\n",
    "Generator Function: Does not store all results at once; it generates each value on-the-fly as needed, which is more memory-efficient.\n",
    "Iteration:\n",
    "\n",
    "Regular Function: Returns a single result or a complete data structure (e.g., list). Iteration over results must be done after the function has fully executed.\n",
    "Generator Function: Can be iterated over directly, producing one value at a time using the next() function or a for loop.\n",
    "'''\n",
    "\n",
    "def get_squares(n):\n",
    "    return [x**2 for x in range(n)]\n",
    "\n",
    "# Using the regular function\n",
    "squares = get_squares(5)\n",
    "print(squares)  # Output: [0, 1, 4, 9, 16]\n",
    "\n",
    "\n",
    "def generate_squares(n):\n",
    "    for x in range(n):\n",
    "        yield x**2\n",
    "\n",
    "# Using the generator function\n",
    "for square in generate_squares(5):\n",
    "    print(square)  # Output: 0 1 4 9 16\n"
   ]
  },
  {
   "cell_type": "code",
   "execution_count": 4,
   "metadata": {},
   "outputs": [
    {
     "name": "stdout",
     "output_type": "stream",
     "text": [
      "1\n",
      "2\n",
      "3\n"
     ]
    }
   ],
   "source": [
    "# How can you pause and resume the execution of a generator?\n",
    "\n",
    "'''In Python, you can pause and resume the execution of a generator using the yield keyword. \n",
    "When a generator function is called, it returns a generator object, which can be iterated over. \n",
    "Each time the generator yields a value, it pauses execution, allowing the code to be resumed later from where it left off.'''\n",
    "\n",
    "def count_up_to(max):\n",
    "    \"\"\"Generator function that counts from 1 to max.\"\"\"\n",
    "    count = 1\n",
    "    while count <= max:\n",
    "        yield count  # Pause and yield the current value\n",
    "        count += 1   # Resume execution and increment count\n",
    "\n",
    "# Create a generator object\n",
    "counter = count_up_to(3)\n",
    "\n",
    "# Iterate over the generator\n",
    "print(next(counter))  # Output: 1\n",
    "print(next(counter))  # Output: 2\n",
    "print(next(counter))  # Output: 3\n",
    "\n",
    "# The generator is exhausted now, calling next() will raise StopIteration\n",
    "# print(next(counter))  # Uncommenting this line will raise StopIteration\n"
   ]
  },
  {
   "cell_type": "code",
   "execution_count": 7,
   "metadata": {},
   "outputs": [
    {
     "name": "stdout",
     "output_type": "stream",
     "text": [
      "0\n",
      "1\n",
      "1\n",
      "2\n",
      "3\n",
      "5\n",
      "8\n",
      "13\n",
      "21\n",
      "34\n"
     ]
    }
   ],
   "source": [
    "# Write a generator function to generate the Fibonacci sequence.\n",
    "\n",
    "def fibonacci_generator():\n",
    "    \"\"\"Generator function to produce the Fibonacci sequence.\"\"\"\n",
    "    a, b = 0, 1\n",
    "    while True:\n",
    "        yield a  # Yield the current value\n",
    "        a, b = b, a + b  # Update values for the next iteration\n",
    "\n",
    "# Example usage of the generator\n",
    "fib = fibonacci_generator()\n",
    "\n",
    "# Print the first 10 Fibonacci numbers\n",
    "for _ in range(10):\n",
    "    print(next(fib))"
   ]
  },
  {
   "cell_type": "code",
   "execution_count": 8,
   "metadata": {},
   "outputs": [
    {
     "name": "stdout",
     "output_type": "stream",
     "text": [
      "1\n",
      "4\n",
      "9\n",
      "16\n",
      "25\n",
      "36\n",
      "49\n",
      "64\n",
      "81\n",
      "100\n"
     ]
    }
   ],
   "source": [
    "# Create a generator that yields squares of numbers up to a given limit.\n",
    "\n",
    "def squares_up_to(limit):\n",
    "    \"\"\"\n",
    "    Generator function that yields squares of numbers up to a given limit.\n",
    "\n",
    "    Args:\n",
    "        limit (int): The upper limit for the squares to be generated.\n",
    "\n",
    "    Yields:\n",
    "        int: The square of each number from 1 up to the limit.\n",
    "    \"\"\"\n",
    "    num = 1\n",
    "    while num ** 2 <= limit:\n",
    "        yield num ** 2  # Yield the square of the current number\n",
    "        num += 1  # Move to the next number\n",
    "\n",
    "# Example usage of the generator\n",
    "squares = squares_up_to(100)\n",
    "\n",
    "# Print squares up to the limit\n",
    "for square in squares:\n",
    "    print(square)"
   ]
  },
  {
   "cell_type": "code",
   "execution_count": 9,
   "metadata": {},
   "outputs": [
    {
     "name": "stdout",
     "output_type": "stream",
     "text": [
      "(1,)\n",
      "(2,)\n",
      "(3,)\n",
      "(1, 2)\n",
      "(1, 3)\n",
      "(2, 3)\n",
      "(1, 2, 3)\n"
     ]
    }
   ],
   "source": [
    "# Implement a program that uses a generator to iterate over all possible combinations of a list.\n",
    "\n",
    "'''To generate all possible combinations of elements in a list, \n",
    "you can use a generator function along with Python’s itertools.combinations from the itertools module. \n",
    "The combinations function generates all possible combinations of a given length. \n",
    "For all possible combinations of varying lengths, \n",
    "you can use a nested loop to generate combinations for each length from 1 to the length of the list.'''\n",
    "\n",
    "import itertools\n",
    "\n",
    "def all_combinations(lst):\n",
    "    \"\"\"\n",
    "    Generator function that yields all possible combinations of elements from a list.\n",
    "\n",
    "    Args:\n",
    "        lst (list): The list of elements to generate combinations from.\n",
    "\n",
    "    Yields:\n",
    "        tuple: Each possible combination of elements.\n",
    "    \"\"\"\n",
    "    for r in range(1, len(lst) + 1):\n",
    "        for combination in itertools.combinations(lst, r):\n",
    "            yield combination\n",
    "\n",
    "# Example usage of the generator\n",
    "elements = [1, 2, 3]\n",
    "\n",
    "# Print all combinations\n",
    "for combo in all_combinations(elements):\n",
    "    print(combo)"
   ]
  }
 ],
 "metadata": {
  "kernelspec": {
   "display_name": "Python 3",
   "language": "python",
   "name": "python3"
  },
  "language_info": {
   "codemirror_mode": {
    "name": "ipython",
    "version": 3
   },
   "file_extension": ".py",
   "mimetype": "text/x-python",
   "name": "python",
   "nbconvert_exporter": "python",
   "pygments_lexer": "ipython3",
   "version": "3.12.0"
  }
 },
 "nbformat": 4,
 "nbformat_minor": 2
}
