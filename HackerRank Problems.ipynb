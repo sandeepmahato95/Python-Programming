{
 "cells": [
  {
   "cell_type": "code",
   "execution_count": 4,
   "metadata": {},
   "outputs": [
    {
     "name": "stdout",
     "output_type": "stream",
     "text": [
      "Condition of year 2100 as a Leap Year is False\n"
     ]
    }
   ],
   "source": [
    "## Checking Leap year or not\n",
    "\n",
    "def is_leap(year):\n",
    "    leap = False\n",
    "    \n",
    "    # Write your logic here\n",
    "    if year%4 == 0:            #Here we are checking if the year is normal year\n",
    "        leap = True\n",
    "        if year%100 == 0:        #Here we are checking if the year is a century year      \n",
    "            if year%400 == 0:\n",
    "                leap = True\n",
    "            else:\n",
    "                leap = False\n",
    "    return leap\n",
    "\n",
    "year = int(input())\n",
    "print('Condition of year',year,'as a Leap Year is',is_leap(year))"
   ]
  },
  {
   "cell_type": "code",
   "execution_count": 8,
   "metadata": {},
   "outputs": [
    {
     "name": "stdout",
     "output_type": "stream",
     "text": [
      "addition of 3 and 4 : 7\n"
     ]
    }
   ],
   "source": [
    "a=int(input())\n",
    "b=int(input())\n",
    "\n",
    "def add(a,b):\n",
    "    return a+b\n",
    "\n",
    "print('addition of', a,'and', b, 'is:', add(a,b))"
   ]
  }
 ],
 "metadata": {
  "kernelspec": {
   "display_name": "base",
   "language": "python",
   "name": "python3"
  },
  "language_info": {
   "codemirror_mode": {
    "name": "ipython",
    "version": 3
   },
   "file_extension": ".py",
   "mimetype": "text/x-python",
   "name": "python",
   "nbconvert_exporter": "python",
   "pygments_lexer": "ipython3",
   "version": "3.12.4"
  }
 },
 "nbformat": 4,
 "nbformat_minor": 2
}
