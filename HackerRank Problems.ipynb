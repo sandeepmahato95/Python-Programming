{
 "cells": [
  {
   "cell_type": "code",
   "execution_count": null,
   "metadata": {},
   "outputs": [],
   "source": [
    "## Checking Leap year or not\n",
    "\n",
    "def is_leap(year):\n",
    "    leap = False\n",
    "    \n",
    "    # Write your logic here\n",
    "    if year%4 == 0:            #Here we are checking if the year is normal year\n",
    "        leap = True\n",
    "        if year%100 == 0:        #Here we are checking if the year is a century year      \n",
    "            if year%400 == 0:\n",
    "                leap = True\n",
    "            else:\n",
    "                leap = False\n",
    "    return leap\n",
    "\n",
    "year = int(input())\n",
    "print(is_leap(year))"
   ]
  },
  {
   "cell_type": "code",
   "execution_count": null,
   "metadata": {},
   "outputs": [],
   "source": [
    "def add(a,b):\n",
    "    result=a+b\n",
    "    return result\n",
    "\n",
    "a=int(input())\n",
    "b=int(input())\n",
    "\n",
    "add(a,b)"
   ]
  }
 ],
 "metadata": {
  "language_info": {
   "name": "python"
  }
 },
 "nbformat": 4,
 "nbformat_minor": 2
}
