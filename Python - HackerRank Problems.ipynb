{
 "cells": [
  {
   "cell_type": "code",
   "execution_count": 4,
   "metadata": {},
   "outputs": [
    {
     "name": "stdout",
     "output_type": "stream",
     "text": [
      "Condition of year 2100 as a Leap Year is False\n"
     ]
    }
   ],
   "source": [
    "## Checking Leap year or not\n",
    "\n",
    "def is_leap(year):\n",
    "    leap = False\n",
    "    \n",
    "    # Write your logic here\n",
    "    if year%4 == 0:            #Here we are checking if the year is normal year\n",
    "        leap = True\n",
    "        if year%100 == 0:        #Here we are checking if the year is a century year      \n",
    "            if year%400 == 0:\n",
    "                leap = True\n",
    "            else:\n",
    "                leap = False\n",
    "    return leap\n",
    "\n",
    "year = int(input())\n",
    "print('Condition of year',year,'as a Leap Year is',is_leap(year))"
   ]
  },
  {
   "cell_type": "code",
   "execution_count": 9,
   "metadata": {},
   "outputs": [
    {
     "name": "stdout",
     "output_type": "stream",
     "text": [
      "addition of 3 and 4 is: 7\n"
     ]
    }
   ],
   "source": [
    "a=int(input())\n",
    "b=int(input())\n",
    "\n",
    "def add(a,b):\n",
    "    return a+b\n",
    "\n",
    "print('addition of', a,'and', b, 'is:', add(a,b))"
   ]
  },
  {
   "cell_type": "code",
   "execution_count": 8,
   "metadata": {},
   "outputs": [
    {
     "name": "stdout",
     "output_type": "stream",
     "text": [
      "for n= 11 the result is:\n",
      "1234567891011"
     ]
    }
   ],
   "source": [
    "'''\n",
    "The included code stub will read an integer, n \n",
    "\n",
    "Without using any string methods, try to print the following:\n",
    "\n",
    "123...n\n",
    "\n",
    "Note that \"...\" represents the consecutive values in between.\n",
    "\n",
    "Example: n = 5\n",
    "\n",
    "Then Print the string 12345\n",
    "\n",
    "Input Format\n",
    "\n",
    "The first line contains an integer n\n",
    "\n",
    "Constraints: 1<=n<=150\n",
    "\n",
    "Output Format\n",
    "\n",
    "Print the list of integers from 1 through n  as a string, without spaces.\n",
    "\n",
    "'''\n",
    "\n",
    "if __name__ == '__main__':\n",
    "    n = int(input())\n",
    "    \n",
    "    print('for n=',n,'the result is:')\n",
    "\n",
    "    for i in range(1,n+1):\n",
    "        print(i,end='')"
   ]
  },
  {
   "cell_type": "code",
   "execution_count": 64,
   "metadata": {},
   "outputs": [
    {
     "name": "stdout",
     "output_type": "stream",
     "text": [
      "for n = 3 it printed -> Weird\n"
     ]
    }
   ],
   "source": [
    "''' \n",
    "Given an integer,n, perform the following conditional actions:\n",
    "\n",
    "If n is odd, print Weird\n",
    "If n is even and in the inclusive range of 2 to 5, print Not Weird\n",
    "If n is even and in the inclusive range of 6 to 20, print Weird\n",
    "If n is even and greater than 20, print Not Weird\n",
    "'''\n",
    "\n",
    "if __name__ == '__main__':\n",
    "    n = int(input().strip())\n",
    "    print('for n =',n,'it printed ->',end=' ')\n",
    "    \n",
    "    if n%2==0: # if n is even\n",
    "        if n>2 and n<=5:\n",
    "            print('Not Weird')\n",
    "        elif n>6 and n<=20:\n",
    "            print('Weird')\n",
    "        elif n>20:\n",
    "            print('Not Weird')\n",
    "    else:\n",
    "        print('Weird') # when n is odd"
   ]
  },
  {
   "cell_type": "code",
   "execution_count": 71,
   "metadata": {},
   "outputs": [
    {
     "name": "stdout",
     "output_type": "stream",
     "text": [
      "for n = 3 it printed -> Weird\n"
     ]
    }
   ],
   "source": [
    "''' \n",
    "Given an integer,n, perform the following conditional actions:\n",
    "\n",
    "If n is odd, print Weird\n",
    "If n is even and in the inclusive range of 2 to 5, print Not Weird\n",
    "If n is even and in the inclusive range of 6 to 20, print Weird\n",
    "If n is even and greater than 20, print Not Weird\n",
    "'''\n",
    "\n",
    "if __name__ == '__main__':\n",
    "    n = int(input().strip())\n",
    "    print('for n =',n,'it printed ->',end=' ')\n",
    "    \n",
    "    if n%2==0: # if n is even\n",
    "        if n in range(2,6):\n",
    "            print('Not Weird')\n",
    "        elif n in range(6,21):\n",
    "            print('Weird')\n",
    "        elif n>20:\n",
    "            print('Not Weird')\n",
    "    else:\n",
    "        print('Weird') # when n is odd"
   ]
  },
  {
   "cell_type": "code",
   "execution_count": 70,
   "metadata": {},
   "outputs": [
    {
     "name": "stdout",
     "output_type": "stream",
     "text": [
      "0 1 2 3 4 5 6 7 8 9 10 11 12 13 14 15 16 17 18 19 20 "
     ]
    }
   ],
   "source": [
    "for n in range(21):\n",
    "    print(n,end=' ')"
   ]
  },
  {
   "cell_type": "code",
   "execution_count": 22,
   "metadata": {},
   "outputs": [
    {
     "name": "stdout",
     "output_type": "stream",
     "text": [
      "True\n"
     ]
    }
   ],
   "source": [
    "## Ternary Operator\n",
    "x=int(input())\n",
    "result=True if x>5 else False\n",
    "print(result)"
   ]
  },
  {
   "cell_type": "code",
   "execution_count": 31,
   "metadata": {},
   "outputs": [
    {
     "name": "stdout",
     "output_type": "stream",
     "text": [
      "Not Wierd\n"
     ]
    }
   ],
   "source": [
    "'''\n",
    "Given an integer, n , perform the following conditional actions:\n",
    "\n",
    "If n is odd, print 'Weird'\n",
    "If n is even and in the inclusive range of 2 to 5, print 'Not Weird'\n",
    "If n is even and in the inclusive range of 6 to 20, print 'Weird'\n",
    "If n is even and greater than 20, print 'Not Weird'\n",
    "\n",
    "'''\n",
    "\n",
    "if __name__ == '__main__':\n",
    "    n = int(input().strip())\n",
    "\n",
    "result='Wierd' if ((n%2!=0) or ((n%2==0) and (n in range(6,21)))) else 'Not Wierd'\n",
    "print(result)"
   ]
  },
  {
   "cell_type": "code",
   "execution_count": 54,
   "metadata": {},
   "outputs": [
    {
     "name": "stdout",
     "output_type": "stream",
     "text": [
      "reverse of apple is elppa\n"
     ]
    }
   ],
   "source": [
    "a=input()\n",
    "\n",
    "reverse=a[::-1]\n",
    "\n",
    "print('reverse of', a, 'is',reverse)"
   ]
  },
  {
   "cell_type": "code",
   "execution_count": 89,
   "metadata": {},
   "outputs": [
    {
     "name": "stdout",
     "output_type": "stream",
     "text": [
      "rice dal @@ roti chapati\n"
     ]
    }
   ],
   "source": [
    "a='rice dal'\n",
    "b='roti chapati'\n",
    "print(a,end=' @@ ')\n",
    "print(b)"
   ]
  },
  {
   "cell_type": "code",
   "execution_count": 132,
   "metadata": {},
   "outputs": [
    {
     "name": "stdout",
     "output_type": "stream",
     "text": [
      "A=There are @$ 6 @$ members of Monty Python\n",
      "B=There are\n",
      "6\n",
      "members of Monty Python\n"
     ]
    }
   ],
   "source": [
    "print('A=There are', 6, 'members of Monty Python',sep=' @$ ')\n",
    "\n",
    "print('B=There are', 6, 'members of Monty Python',sep='\\n') # \\n --> new line escape character"
   ]
  }
 ],
 "metadata": {
  "kernelspec": {
   "display_name": "base",
   "language": "python",
   "name": "python3"
  },
  "language_info": {
   "codemirror_mode": {
    "name": "ipython",
    "version": 3
   },
   "file_extension": ".py",
   "mimetype": "text/x-python",
   "name": "python",
   "nbconvert_exporter": "python",
   "pygments_lexer": "ipython3",
   "version": "3.12.4"
  }
 },
 "nbformat": 4,
 "nbformat_minor": 2
}
