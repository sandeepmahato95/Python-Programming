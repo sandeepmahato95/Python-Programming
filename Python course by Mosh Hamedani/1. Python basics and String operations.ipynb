{
 "cells": [
  {
   "cell_type": "code",
   "execution_count": 86,
   "metadata": {},
   "outputs": [
    {
     "name": "stdout",
     "output_type": "stream",
     "text": [
      "Sandeep likes Blue\n",
      "Sandeep likes Blue\n",
      "Sandeep likes Blue\n"
     ]
    }
   ],
   "source": [
    "name = input('person name: ')\n",
    "color = input('color name: ')\n",
    "print(name,'likes',color)\n",
    "print(name + ' likes ' + color)\n",
    "print(f\"{name} likes {color}\") # It is recommended."
   ]
  },
  {
   "cell_type": "code",
   "execution_count": 54,
   "metadata": {},
   "outputs": [
    {
     "name": "stdout",
     "output_type": "stream",
     "text": [
      "so, your weight in Kilogram is: 22\n"
     ]
    }
   ],
   "source": [
    "weight_pound = int(input('what is your weight in pound: '))\n",
    "\n",
    "weight_kilogram = round(weight_pound * 0.45)\n",
    "\n",
    "print(f\"so, your weight in Kilogram is: {weight_kilogram}\")\n"
   ]
  },
  {
   "cell_type": "markdown",
   "metadata": {},
   "source": [
    "### String"
   ]
  },
  {
   "cell_type": "markdown",
   "metadata": {},
   "source": [
    "#### Doble Quote"
   ]
  },
  {
   "cell_type": "code",
   "execution_count": 12,
   "metadata": {},
   "outputs": [
    {
     "name": "stdout",
     "output_type": "stream",
     "text": [
      "Beginner's Python course\n"
     ]
    }
   ],
   "source": [
    "print(\"Beginner's Python course\")"
   ]
  },
  {
   "cell_type": "markdown",
   "metadata": {},
   "source": [
    "#### Single quote"
   ]
  },
  {
   "cell_type": "code",
   "execution_count": 13,
   "metadata": {},
   "outputs": [
    {
     "name": "stdout",
     "output_type": "stream",
     "text": [
      "Python for \"Beginners\"\n"
     ]
    }
   ],
   "source": [
    "print('Python for \"Beginners\"')"
   ]
  },
  {
   "cell_type": "markdown",
   "metadata": {},
   "source": [
    "### Multi line string using **Triple Quotes**"
   ]
  },
  {
   "cell_type": "code",
   "execution_count": 19,
   "metadata": {},
   "outputs": [
    {
     "name": "stdout",
     "output_type": "stream",
     "text": [
      "\n",
      "Hi Team,\n",
      "\n",
      "It was amazing working with you.\n",
      "\n",
      "Thanks,\n",
      "Sandeep\n",
      "\n"
     ]
    }
   ],
   "source": [
    "message = '''\n",
    "Hi Team,\n",
    "\n",
    "It was amazing working with you.\n",
    "\n",
    "Thanks,\n",
    "Sandeep\n",
    "'''\n",
    "print(message)"
   ]
  },
  {
   "cell_type": "code",
   "execution_count": 40,
   "metadata": {},
   "outputs": [],
   "source": [
    "course = \"python for beginners\"\n",
    "another=course"
   ]
  },
  {
   "cell_type": "markdown",
   "metadata": {},
   "source": [
    "#### var_name[::-1] to print string in **_Reverse_** Order"
   ]
  },
  {
   "cell_type": "code",
   "execution_count": 34,
   "metadata": {},
   "outputs": [
    {
     "name": "stdout",
     "output_type": "stream",
     "text": [
      "srennigeb rof nohtyp\n"
     ]
    }
   ],
   "source": [
    "print(course[::-1])"
   ]
  },
  {
   "cell_type": "code",
   "execution_count": 39,
   "metadata": {},
   "outputs": [
    {
     "name": "stdout",
     "output_type": "stream",
     "text": [
      "python for beginners\n"
     ]
    }
   ],
   "source": [
    "print(course[:])"
   ]
  },
  {
   "cell_type": "code",
   "execution_count": 41,
   "metadata": {},
   "outputs": [
    {
     "name": "stdout",
     "output_type": "stream",
     "text": [
      "python for beginners\n"
     ]
    }
   ],
   "source": [
    "print(another)"
   ]
  },
  {
   "cell_type": "markdown",
   "metadata": {},
   "source": [
    "#### Upper, Lower case string conversion"
   ]
  },
  {
   "cell_type": "code",
   "execution_count": 46,
   "metadata": {},
   "outputs": [
    {
     "name": "stdout",
     "output_type": "stream",
     "text": [
      "I AM A HERO\n",
      "i am a hero\n",
      "11\n"
     ]
    }
   ],
   "source": [
    "msg = 'I am a hero'\n",
    "print(msg.upper())\n",
    "print(msg.lower())\n",
    "print(len(msg))"
   ]
  },
  {
   "cell_type": "code",
   "execution_count": 47,
   "metadata": {},
   "outputs": [
    {
     "data": {
      "text/plain": [
       "7"
      ]
     },
     "execution_count": 47,
     "metadata": {},
     "output_type": "execute_result"
    }
   ],
   "source": [
    "msg.find('hero')"
   ]
  },
  {
   "cell_type": "markdown",
   "metadata": {},
   "source": [
    "**replace ( )** --> method to replace any word from a string "
   ]
  },
  {
   "cell_type": "code",
   "execution_count": 48,
   "metadata": {},
   "outputs": [
    {
     "data": {
      "text/plain": [
       "'I am a god'"
      ]
     },
     "execution_count": 48,
     "metadata": {},
     "output_type": "execute_result"
    }
   ],
   "source": [
    "msg.replace('hero', 'god')"
   ]
  },
  {
   "cell_type": "markdown",
   "metadata": {},
   "source": [
    "**in** operator --> To check whether a sequence of character is present in the string or not"
   ]
  },
  {
   "cell_type": "code",
   "execution_count": 52,
   "metadata": {},
   "outputs": [
    {
     "data": {
      "text/plain": [
       "True"
      ]
     },
     "execution_count": 52,
     "metadata": {},
     "output_type": "execute_result"
    }
   ],
   "source": [
    "'hero' in msg"
   ]
  },
  {
   "cell_type": "markdown",
   "metadata": {},
   "source": [
    "**len( )** --> to calculate length of characters"
   ]
  },
  {
   "cell_type": "code",
   "execution_count": 55,
   "metadata": {},
   "outputs": [
    {
     "data": {
      "text/plain": [
       "11"
      ]
     },
     "execution_count": 55,
     "metadata": {},
     "output_type": "execute_result"
    }
   ],
   "source": [
    "len(msg)"
   ]
  },
  {
   "cell_type": "code",
   "execution_count": 59,
   "metadata": {},
   "outputs": [
    {
     "data": {
      "text/plain": [
       "'I Am A Hero'"
      ]
     },
     "execution_count": 59,
     "metadata": {},
     "output_type": "execute_result"
    }
   ],
   "source": [
    "msg.title()"
   ]
  },
  {
   "cell_type": "markdown",
   "metadata": {},
   "source": [
    "### Arithmetic Operations"
   ]
  },
  {
   "cell_type": "code",
   "execution_count": 62,
   "metadata": {},
   "outputs": [
    {
     "data": {
      "text/plain": [
       "3.3333333333333335"
      ]
     },
     "execution_count": 62,
     "metadata": {},
     "output_type": "execute_result"
    }
   ],
   "source": [
    "10 / 3"
   ]
  },
  {
   "cell_type": "code",
   "execution_count": 61,
   "metadata": {},
   "outputs": [
    {
     "data": {
      "text/plain": [
       "3"
      ]
     },
     "execution_count": 61,
     "metadata": {},
     "output_type": "execute_result"
    }
   ],
   "source": [
    "10 // 3"
   ]
  },
  {
   "cell_type": "code",
   "execution_count": 64,
   "metadata": {},
   "outputs": [
    {
     "data": {
      "text/plain": [
       "1"
      ]
     },
     "execution_count": 64,
     "metadata": {},
     "output_type": "execute_result"
    }
   ],
   "source": [
    "10 % 3"
   ]
  },
  {
   "cell_type": "code",
   "execution_count": 65,
   "metadata": {},
   "outputs": [
    {
     "data": {
      "text/plain": [
       "1000"
      ]
     },
     "execution_count": 65,
     "metadata": {},
     "output_type": "execute_result"
    }
   ],
   "source": [
    "10 ** 3"
   ]
  },
  {
   "cell_type": "markdown",
   "metadata": {},
   "source": [
    "### Augmented Assignment operator += , -= , *="
   ]
  },
  {
   "cell_type": "code",
   "execution_count": 72,
   "metadata": {},
   "outputs": [
    {
     "name": "stdout",
     "output_type": "stream",
     "text": [
      "13\n"
     ]
    }
   ],
   "source": [
    "x = 10\n",
    "x += 3 # x = x + 3\n",
    "print(x)"
   ]
  },
  {
   "cell_type": "code",
   "execution_count": 69,
   "metadata": {},
   "outputs": [
    {
     "name": "stdout",
     "output_type": "stream",
     "text": [
      "7\n"
     ]
    }
   ],
   "source": [
    "y = 10\n",
    "y -= 3\n",
    "print(y)"
   ]
  },
  {
   "cell_type": "code",
   "execution_count": 71,
   "metadata": {},
   "outputs": [
    {
     "name": "stdout",
     "output_type": "stream",
     "text": [
      "30\n"
     ]
    }
   ],
   "source": [
    "z = 10\n",
    "z *= 3 # z = z*3\n",
    "print(z)"
   ]
  },
  {
   "cell_type": "markdown",
   "metadata": {},
   "source": [
    "Math module"
   ]
  },
  {
   "cell_type": "code",
   "execution_count": 74,
   "metadata": {},
   "outputs": [],
   "source": [
    "import math"
   ]
  },
  {
   "cell_type": "code",
   "execution_count": 75,
   "metadata": {},
   "outputs": [
    {
     "data": {
      "text/plain": [
       "4"
      ]
     },
     "execution_count": 75,
     "metadata": {},
     "output_type": "execute_result"
    }
   ],
   "source": [
    "math.ceil(3.33)"
   ]
  },
  {
   "cell_type": "code",
   "execution_count": 76,
   "metadata": {},
   "outputs": [
    {
     "data": {
      "text/plain": [
       "5"
      ]
     },
     "execution_count": 76,
     "metadata": {},
     "output_type": "execute_result"
    }
   ],
   "source": [
    "math.floor(5.87)"
   ]
  },
  {
   "cell_type": "markdown",
   "metadata": {},
   "source": [
    "House Price is 1 million dollar. If the customer has good credi, offer him just 10 % as downpayment, or else offer him 20% of the price."
   ]
  },
  {
   "cell_type": "code",
   "execution_count": 79,
   "metadata": {},
   "outputs": [
    {
     "name": "stdout",
     "output_type": "stream",
     "text": [
      "your down payment: $ 100000.0\n"
     ]
    }
   ],
   "source": [
    "house_price = 1000000\n",
    "has_good_credit = True\n",
    "if has_good_credit:\n",
    "    down_payment = house_price * 0.1\n",
    "else:\n",
    "    down_payment = house_price * 0.2\n",
    "print(f'your down payment: $ {down_payment}')"
   ]
  },
  {
   "cell_type": "markdown",
   "metadata": {},
   "source": [
    "### Logical operator"
   ]
  },
  {
   "cell_type": "markdown",
   "metadata": {},
   "source": [
    "1. if applicant has high income and good credit, he is eligible for loan."
   ]
  },
  {
   "cell_type": "code",
   "execution_count": 85,
   "metadata": {},
   "outputs": [
    {
     "name": "stdout",
     "output_type": "stream",
     "text": [
      "eligible for loan\n"
     ]
    }
   ],
   "source": [
    "has_high_income = True\n",
    "has_good_credit = True\n",
    "\n",
    "if has_high_income and has_good_credit:\n",
    "    # 'and' operator -- if all of the conditions are true then only it is executed, otherwise don't    \n",
    "    print('eligible for loan')\n"
   ]
  },
  {
   "cell_type": "markdown",
   "metadata": {},
   "source": [
    "2. if applicant has high income or good credit, he is eligible for loan."
   ]
  },
  {
   "cell_type": "code",
   "execution_count": 83,
   "metadata": {},
   "outputs": [
    {
     "name": "stdout",
     "output_type": "stream",
     "text": [
      "eligible for loan\n"
     ]
    }
   ],
   "source": [
    "has_high_income = False\n",
    "has_good_credit = True\n",
    "\n",
    "if has_high_income or has_good_credit:   \n",
    "    # 'or' operator -- if one of the conditions is satisfied, then it's True (code executed), otherwise False (don't)\n",
    "    print('eligible for loan')"
   ]
  },
  {
   "cell_type": "markdown",
   "metadata": {},
   "source": [
    "if an applicant has a good credit and does not have a criminal record,\n",
    "then he is eligible for a loan."
   ]
  },
  {
   "cell_type": "code",
   "execution_count": 2,
   "metadata": {},
   "outputs": [
    {
     "name": "stdout",
     "output_type": "stream",
     "text": [
      "eligible for loan\n"
     ]
    }
   ],
   "source": [
    "has_good_credit = True\n",
    "has_criminal_record = False\n",
    "\n",
    "if has_good_credit and not has_criminal_record:   \n",
    "    # 'not' operator --> changes True to False and vice-versa\n",
    "    print('eligible for loan')"
   ]
  },
  {
   "cell_type": "markdown",
   "metadata": {},
   "source": [
    "### Comparison operator"
   ]
  },
  {
   "cell_type": "code",
   "execution_count": 7,
   "metadata": {},
   "outputs": [
    {
     "name": "stdout",
     "output_type": "stream",
     "text": [
      "Weather is nice.\n",
      "25\n"
     ]
    }
   ],
   "source": [
    "temperature = int(input(\"Enter today's temperature: \"))\n",
    "\n",
    "if temperature >30:\n",
    "    print(\"it's a hot day.\")\n",
    "elif temperature < 20:\n",
    "    print(\"it's a cold day.\")\n",
    "elif temperature == 25:\n",
    "    print(\"Weather is nice.\")\n",
    "else:\n",
    "    print(\"it's not a hot day.\")\n",
    "\n",
    "print(temperature)"
   ]
  },
  {
   "cell_type": "markdown",
   "metadata": {},
   "source": [
    "### Weight Converter"
   ]
  },
  {
   "cell_type": "code",
   "execution_count": null,
   "metadata": {},
   "outputs": [
    {
     "name": "stdout",
     "output_type": "stream",
     "text": [
      "Weight: 72\n",
      "(L)bs or (K)g: l\n",
      "You are 32.4 pounds\n"
     ]
    }
   ],
   "source": [
    "weight = int(input(\"Enter your weight: \"))\n",
    "print(f\"Weight: {weight}\")\n",
    "\n",
    "is_weight = input('Select (L)bs or (K)g as your weight: ')\n",
    "print(f\"(L)bs or (K)g: {is_weight}\")\n",
    "\n",
    "if is_weight.upper() == 'L': ## will check for 'L' or 'l'\n",
    "    weight_pound = weight * 0.45\n",
    "    print(f\"You are {weight_pound} pounds\")\n",
    "    \n",
    "elif is_weight.upper() == 'K': ## will check for 'K' or 'k'\n",
    "    weight_kg = weight * 2.2 \n",
    "    print(f\"You are {weight_kg} kg\")\n",
    "\n",
    "else:\n",
    "    print('invalid data')"
   ]
  },
  {
   "cell_type": "code",
   "execution_count": null,
   "metadata": {},
   "outputs": [],
   "source": []
  }
 ],
 "metadata": {
  "kernelspec": {
   "display_name": ".venv",
   "language": "python",
   "name": "python3"
  },
  "language_info": {
   "codemirror_mode": {
    "name": "ipython",
    "version": 3
   },
   "file_extension": ".py",
   "mimetype": "text/x-python",
   "name": "python",
   "nbconvert_exporter": "python",
   "pygments_lexer": "ipython3",
   "version": "3.12.4"
  }
 },
 "nbformat": 4,
 "nbformat_minor": 2
}
