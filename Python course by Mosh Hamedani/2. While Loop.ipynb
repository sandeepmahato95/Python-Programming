{
 "cells": [
  {
   "cell_type": "markdown",
   "metadata": {},
   "source": [
    "#### While loop"
   ]
  },
  {
   "cell_type": "markdown",
   "metadata": {},
   "source": [
    "Print 1 to 4"
   ]
  },
  {
   "cell_type": "code",
   "execution_count": 6,
   "metadata": {},
   "outputs": [
    {
     "name": "stdout",
     "output_type": "stream",
     "text": [
      "1\n",
      "2\n",
      "3\n",
      "4\n",
      "Done\n"
     ]
    }
   ],
   "source": [
    "i = 1\n",
    "while i<5:          # While Loop will run till the condition is satisfied\n",
    "    print(i)\n",
    "    i+=1     \n",
    "    \n",
    "print(\"Done\")   # i = i + 1 it is important other wise 'i' will be always 1 and the loop will run infinitely"
   ]
  },
  {
   "cell_type": "code",
   "execution_count": 7,
   "metadata": {},
   "outputs": [
    {
     "name": "stdout",
     "output_type": "stream",
     "text": [
      "AAAAA\n"
     ]
    }
   ],
   "source": [
    "print ('A' * 5)"
   ]
  },
  {
   "cell_type": "code",
   "execution_count": 8,
   "metadata": {},
   "outputs": [
    {
     "name": "stdout",
     "output_type": "stream",
     "text": [
      "*\n",
      "**\n",
      "***\n",
      "****\n",
      "*****\n"
     ]
    }
   ],
   "source": [
    "i = 1\n",
    "while i < 6:\n",
    "    print('*' * i)\n",
    "    i+=1"
   ]
  },
  {
   "cell_type": "code",
   "execution_count": 11,
   "metadata": {},
   "outputs": [
    {
     "name": "stdout",
     "output_type": "stream",
     "text": [
      "* 1\n",
      "*** 3\n",
      "***** 5\n",
      "******* 7\n",
      "********* 9\n",
      "Done\n"
     ]
    }
   ],
   "source": [
    "i = 1\n",
    "while i < 10:\n",
    "    if i % 2 != 0:\n",
    "        print('*' * i, i)\n",
    "    i += 1\n",
    "\n",
    "print(\"Done\")    "
   ]
  },
  {
   "cell_type": "code",
   "execution_count": 16,
   "metadata": {},
   "outputs": [
    {
     "name": "stdout",
     "output_type": "stream",
     "text": [
      "** 2\n",
      "**** 4\n",
      "****** 6\n",
      "******** 8\n",
      "Done\n"
     ]
    }
   ],
   "source": [
    "i = 1\n",
    "while i < 10:\n",
    "    if i % 2 == 0:\n",
    "        print('*' * i, i)\n",
    "    i += 1\n",
    "\n",
    "print(\"Done\")    "
   ]
  },
  {
   "cell_type": "markdown",
   "metadata": {},
   "source": [
    "### Building a Guessing Game"
   ]
  },
  {
   "cell_type": "markdown",
   "metadata": {},
   "source": [
    "If the customer guess a secret number successfully within 3 attempts, then the customer **wins**,\n",
    "otherwise he *loose* the game"
   ]
  },
  {
   "cell_type": "code",
   "execution_count": 43,
   "metadata": {},
   "outputs": [
    {
     "name": "stdout",
     "output_type": "stream",
     "text": [
      "Guess: 7\n",
      "You win!\n"
     ]
    }
   ],
   "source": [
    "secret_number = 7\n",
    "guess_count = 0\n",
    "guess_limit = 3\n",
    "while guess_count < guess_limit:\n",
    "    guess = int(input('Guess: '))\n",
    "    print(f\"Guess: {guess}\")\n",
    "    guess_count += 1\n",
    "    if guess == secret_number:\n",
    "        print(\"You win!\")\n",
    "        break\n",
    "\n",
    "else:\n",
    "    print(\"Sorry, you lost!\")    \n"
   ]
  },
  {
   "cell_type": "markdown",
   "metadata": {},
   "source": [
    "In Python, a while loop can have an optional **else** clause. The else block is executed only if the loop terminates normally (i.e., the condition becomes False) and not due to a break statement. "
   ]
  },
  {
   "cell_type": "markdown",
   "metadata": {},
   "source": [
    "## Car Game"
   ]
  },
  {
   "cell_type": "code",
   "execution_count": 4,
   "metadata": {},
   "outputs": [
    {
     "name": "stdout",
     "output_type": "stream",
     "text": [
      "I don't understand that.\n",
      "Car started... Ready to go!\n",
      "Car is already started....\n",
      "Car stopped\n",
      "Car is already stopped.\n",
      "\n",
      "start - to start the car\n",
      "stop - to stop the car\n",
      "quit - to exit\n",
      "            \n",
      "\n",
      "start - to start the car\n",
      "stop - to stop the car\n",
      "quit - to exit\n",
      "            \n"
     ]
    }
   ],
   "source": [
    "command=\"\"    # empty string\n",
    "started = False       # Car not started initially\n",
    "while True: \n",
    "    command=input(\"> \").lower() # any input will be converted to lower case\n",
    "    if command == 'help':\n",
    "        print(f\"\"\"\n",
    "start - to start the car\n",
    "stop - to stop the car\n",
    "quit - to exit\n",
    "            \"\"\")\n",
    "    elif command == \"start\":\n",
    "        if started:\n",
    "            print(\"Car is already started....\")\n",
    "        else:\n",
    "            started = True\n",
    "            print(\"Car started... Ready to go!\")\n",
    "    elif command == \"stop\":\n",
    "        if not started:\n",
    "            print(\"Car is already stopped.\")\n",
    "        else:\n",
    "            started = False\n",
    "            print(\"Car stopped\")\n",
    "    elif command == 'quit':\n",
    "        break\n",
    "    else:\n",
    "        print(\"I don't understand that.\")"
   ]
  },
  {
   "cell_type": "markdown",
   "metadata": {},
   "source": [
    "#### To indent multiple lines in VS Code keyboard shortcut:   \n",
    "**Indent:** Ctrl + ]     (keep pressing the **]** button, the selected block will move rightwards)     \n",
    "**Dedent:** Ctrl + [     (keep pressing the **[** button, the selected block will move rightwards)     \n",
    "**Comment** Ctrl + /"
   ]
  },
  {
   "cell_type": "code",
   "execution_count": null,
   "metadata": {},
   "outputs": [],
   "source": []
  }
 ],
 "metadata": {
  "kernelspec": {
   "display_name": ".venv",
   "language": "python",
   "name": "python3"
  },
  "language_info": {
   "codemirror_mode": {
    "name": "ipython",
    "version": 3
   },
   "file_extension": ".py",
   "mimetype": "text/x-python",
   "name": "python",
   "nbconvert_exporter": "python",
   "pygments_lexer": "ipython3",
   "version": "3.12.4"
  }
 },
 "nbformat": 4,
 "nbformat_minor": 2
}
