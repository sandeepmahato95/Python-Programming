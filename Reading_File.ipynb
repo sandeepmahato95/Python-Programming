{
 "cells": [
  {
   "cell_type": "markdown",
   "metadata": {},
   "source": [
    "1) Using double backslashes"
   ]
  },
  {
   "cell_type": "code",
   "execution_count": 2,
   "metadata": {},
   "outputs": [
    {
     "name": "stdout",
     "output_type": "stream",
     "text": [
      "hey there!\n"
     ]
    }
   ],
   "source": [
    "# Using 'with' to open the file\n",
    "with open('E:\\\\Udemy\\\\Building Gen AI App with Gemini Pro\\\\Python\\\\journal.txt', 'r') as file:\n",
    "    # Read the content of the file\n",
    "    file_content = file.read()\n",
    "    # Print the content\n",
    "    print(file_content)"
   ]
  },
  {
   "cell_type": "markdown",
   "metadata": {},
   "source": [
    "2) Using forward slashes ' / '"
   ]
  },
  {
   "cell_type": "code",
   "execution_count": 3,
   "metadata": {},
   "outputs": [
    {
     "name": "stdout",
     "output_type": "stream",
     "text": [
      "hey there!\n"
     ]
    }
   ],
   "source": [
    "# Using 'with' to open the file\n",
    "with open('E:/Udemy/Building Gen AI App with Gemini Pro/Python/journal.txt', 'r') as file:\n",
    "    # Read the content of the file\n",
    "    file_content = file.read()\n",
    "    # Print the content\n",
    "    print(file_content)"
   ]
  },
  {
   "cell_type": "markdown",
   "metadata": {},
   "source": [
    "3) Use a raw string by prefixing the path with ' r '"
   ]
  },
  {
   "cell_type": "code",
   "execution_count": 4,
   "metadata": {},
   "outputs": [
    {
     "name": "stdout",
     "output_type": "stream",
     "text": [
      "hey there!\n"
     ]
    }
   ],
   "source": [
    "# Using 'with' to open the file\n",
    "with open(r'E:\\Udemy\\Building Gen AI App with Gemini Pro\\Python\\journal.txt', 'r') as file:\n",
    "    # Read the content of the file\n",
    "    file_content = file.read()\n",
    "    # Print the content\n",
    "    print(file_content)"
   ]
  },
  {
   "cell_type": "markdown",
   "metadata": {},
   "source": [
    "Reading file from other folder or path"
   ]
  },
  {
   "cell_type": "code",
   "execution_count": 9,
   "metadata": {},
   "outputs": [
    {
     "name": "stdout",
     "output_type": "stream",
     "text": [
      "Hey\n",
      "bro\n",
      "how\n",
      "you are\n"
     ]
    }
   ],
   "source": [
    "# Using 'with' to open the file\n",
    "with open(r\"E:\\demo_text.txt\", 'r') as file:\n",
    "    # Read the content of the file\n",
    "    file_content = file.read() # By default the read() method returns the whole text\n",
    "    # Print the content\n",
    "    print(file_content)"
   ]
  },
  {
   "cell_type": "code",
   "execution_count": 10,
   "metadata": {},
   "outputs": [
    {
     "name": "stdout",
     "output_type": "stream",
     "text": [
      "Hey\n",
      "b\n"
     ]
    }
   ],
   "source": [
    "# Using 'with' to open the file\n",
    "with open(r\"E:\\demo_text.txt\", 'r') as file:\n",
    "    # Read the content of the file\n",
    "    file_content = file.read(5) # it reads 5 characters only\n",
    "    # Print the content\n",
    "    print(file_content)"
   ]
  },
  {
   "cell_type": "code",
   "execution_count": 15,
   "metadata": {},
   "outputs": [
    {
     "name": "stdout",
     "output_type": "stream",
     "text": [
      "Hey\n",
      "\n"
     ]
    }
   ],
   "source": [
    "# Using 'with' to open the file\n",
    "with open(r\"E:\\demo_text.txt\", 'r') as file:\n",
    "    # Read the content of the file\n",
    "    file_content = file.readline() # it reads the 1st line\n",
    "    # Print the content\n",
    "    print(file_content)"
   ]
  },
  {
   "cell_type": "code",
   "execution_count": 20,
   "metadata": {},
   "outputs": [
    {
     "name": "stdout",
     "output_type": "stream",
     "text": [
      "Hey\n",
      "\n",
      "bro\n",
      "\n"
     ]
    }
   ],
   "source": [
    "# Using 'with' to open the file\n",
    "with open(r\"E:\\demo_text.txt\", 'r') as file:\n",
    "    # Print the content\n",
    "    print(file.readline()) # Hey\n",
    "    print(file.readline()) # bro"
   ]
  },
  {
   "cell_type": "markdown",
   "metadata": {},
   "source": [
    "Looping  through the file line by line:"
   ]
  },
  {
   "cell_type": "code",
   "execution_count": 21,
   "metadata": {},
   "outputs": [
    {
     "name": "stdout",
     "output_type": "stream",
     "text": [
      "Hey\n",
      "\n",
      "bro\n",
      "\n",
      "how\n",
      "\n",
      "you are\n"
     ]
    }
   ],
   "source": [
    "with open(r\"E:\\demo_text.txt\", 'r') as file:\n",
    "    # Print the content\n",
    "    for x in file:\n",
    "        print(x)"
   ]
  }
 ],
 "metadata": {
  "kernelspec": {
   "display_name": "Python 3",
   "language": "python",
   "name": "python3"
  },
  "language_info": {
   "codemirror_mode": {
    "name": "ipython",
    "version": 3
   },
   "file_extension": ".py",
   "mimetype": "text/x-python",
   "name": "python",
   "nbconvert_exporter": "python",
   "pygments_lexer": "ipython3",
   "version": "3.12.0"
  }
 },
 "nbformat": 4,
 "nbformat_minor": 2
}
