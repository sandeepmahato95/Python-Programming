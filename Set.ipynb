{
 "cells": [
  {
   "cell_type": "code",
   "execution_count": 2,
   "metadata": {},
   "outputs": [
    {
     "name": "stdout",
     "output_type": "stream",
     "text": [
      "Unique set: {1, 2, 3, 4, 5}\n"
     ]
    }
   ],
   "source": [
    "# How do you remove duplicates from a list and create a set in one line?\n",
    "\n",
    "'''\n",
    "1.To remove duplicates from a list and create a set in one line, you can use the set() constructor. \n",
    "2.Converting a list to a set automatically removes duplicate elements because sets do not allow duplicates.\n",
    "'''\n",
    "\n",
    "my_list = [1, 2, 2, 3, 4, 4, 5]\n",
    "unique_set = set(my_list)\n",
    "print(\"Unique set:\", unique_set)"
   ]
  },
  {
   "cell_type": "code",
   "execution_count": 7,
   "metadata": {},
   "outputs": [
    {
     "name": "stdout",
     "output_type": "stream",
     "text": [
      "Mutable set: {1, 3, 4}\n",
      "Immutable frozenset: frozenset({1, 2, 3})\n"
     ]
    }
   ],
   "source": [
    "# Explain the difference between a set and a frozenset\n",
    "\n",
    "'''\n",
    "1. Set: Mutable. You can add, remove, and change elements.\n",
    "2. Frozenset: Immutable. Once created, you cannot modify, add, or remove elements.\n",
    "'''\n",
    "\n",
    "# Set Example\n",
    "my_set = {1, 2, 3}\n",
    "my_set.add(4)          # Adding an element\n",
    "my_set.remove(2)       # Removing an element\n",
    "print(\"Mutable set:\", my_set)\n",
    "\n",
    "# Frozenset Example\n",
    "my_frozenset = frozenset([1, 2, 3])\n",
    "# The following lines will raise errors because frozensets are immutable\n",
    "# my_frozenset.add(4)\n",
    "# my_frozenset.remove(2)\n",
    "print(\"Immutable frozenset:\", my_frozenset)"
   ]
  },
  {
   "cell_type": "code",
   "execution_count": 8,
   "metadata": {},
   "outputs": [
    {
     "name": "stdout",
     "output_type": "stream",
     "text": [
      "Union of sets: {1, 2, 3, 4, 5, 6}\n",
      "Union using | operator: {1, 2, 3, 4, 5, 6}\n",
      "Intersection of sets: {3, 4}\n",
      "Intersection using & operator: {3, 4}\n"
     ]
    }
   ],
   "source": [
    "# How can you perform set operations like union and intersection in Python?\n",
    "\n",
    "# Define two sets\n",
    "set1 = {1, 2, 3, 4}\n",
    "set2 = {3, 4, 5, 6}\n",
    "\n",
    "# Union\n",
    "union_set = set1.union(set2)\n",
    "# or using the | operator\n",
    "union_set_operator = set1 | set2\n",
    "print(\"Union of sets:\", union_set)\n",
    "print(\"Union using | operator:\", union_set_operator)\n",
    "\n",
    "# Intersection\n",
    "intersection_set = set1.intersection(set2)\n",
    "# or using the & operator\n",
    "intersection_set_operator = set1 & set2\n",
    "print(\"Intersection of sets:\", intersection_set)\n",
    "print(\"Intersection using & operator:\", intersection_set_operator)\n"
   ]
  },
  {
   "cell_type": "code",
   "execution_count": 9,
   "metadata": {},
   "outputs": [
    {
     "name": "stdout",
     "output_type": "stream",
     "text": [
      "Are set_a and set_b disjoint? True\n",
      "Are set_a and set_c disjoint? False\n"
     ]
    }
   ],
   "source": [
    "# Write a Python function to check if two sets are disjoint.\n",
    "\n",
    "'''\n",
    "1. To check if two sets are disjoint, you can use the isdisjoint() method. \n",
    "2. Two sets are disjoint if they have no elements in common.\n",
    "'''\n",
    "\n",
    "def are_disjoint(set1, set2):\n",
    "    return set1.isdisjoint(set2)\n",
    "\n",
    "# Test the function\n",
    "set_a = {1, 2, 3}\n",
    "set_b = {4, 5, 6}\n",
    "set_c = {3, 7, 8}\n",
    "\n",
    "print(\"Are set_a and set_b disjoint?\", are_disjoint(set_a, set_b))\n",
    "print(\"Are set_a and set_c disjoint?\", are_disjoint(set_a, set_c))\n"
   ]
  },
  {
   "cell_type": "code",
   "execution_count": 10,
   "metadata": {},
   "outputs": [
    {
     "name": "stdout",
     "output_type": "stream",
     "text": [
      "Set A after removing common elements: {1, 2}\n",
      "Set B after removing common elements: {5, 6}\n"
     ]
    }
   ],
   "source": [
    "# Implement a program to remove common elements from two sets.\n",
    "\n",
    "'''\n",
    "1. To remove common elements from two sets, you can use the difference_update() method. \n",
    "2.This method updates the set to keep only elements that are not in the specified set.\n",
    "'''\n",
    "\n",
    "def remove_common_elements(set1, set2):\n",
    "    # Create copies of the sets to avoid modifying the original sets\n",
    "    set1_copy = set1.copy()\n",
    "    set2_copy = set2.copy()\n",
    "    \n",
    "    # Remove common elements from both sets\n",
    "    set1_copy.difference_update(set2)\n",
    "    set2_copy.difference_update(set1)\n",
    "    \n",
    "    return set1_copy, set2_copy\n",
    "\n",
    "# Test the function\n",
    "set_a = {1, 2, 3, 4}\n",
    "set_b = {3, 4, 5, 6}\n",
    "\n",
    "result_a, result_b = remove_common_elements(set_a, set_b)\n",
    "print(\"Set A after removing common elements:\", result_a)\n",
    "print(\"Set B after removing common elements:\", result_b)"
   ]
  },
  {
   "cell_type": "code",
   "execution_count": 11,
   "metadata": {},
   "outputs": [
    {
     "name": "stdout",
     "output_type": "stream",
     "text": [
      "Unique characters in the string: {'h', 'r', 'w', 'd', 'l', ' ', 'e', 'o'}\n"
     ]
    }
   ],
   "source": [
    "# Create a set containing all characters from a given string.\n",
    "\n",
    "'''\n",
    "To create a set containing all unique characters from a given string, you can use the set() constructor, \n",
    "which automatically removes duplicates and retains only unique characters.'''\n",
    "\n",
    "def unique_characters_from_string(s):\n",
    "    return set(s)\n",
    "\n",
    "# Test the function\n",
    "input_string = \"hello world\"\n",
    "unique_chars = unique_characters_from_string(input_string)\n",
    "print(\"Unique characters in the string:\", unique_chars)"
   ]
  },
  {
   "cell_type": "code",
   "execution_count": null,
   "metadata": {},
   "outputs": [],
   "source": []
  }
 ],
 "metadata": {
  "kernelspec": {
   "display_name": "Python 3",
   "language": "python",
   "name": "python3"
  },
  "language_info": {
   "codemirror_mode": {
    "name": "ipython",
    "version": 3
   },
   "file_extension": ".py",
   "mimetype": "text/x-python",
   "name": "python",
   "nbconvert_exporter": "python",
   "pygments_lexer": "ipython3",
   "version": "3.12.0"
  }
 },
 "nbformat": 4,
 "nbformat_minor": 2
}
