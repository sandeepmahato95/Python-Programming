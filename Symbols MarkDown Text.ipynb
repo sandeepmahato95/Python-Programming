{
 "cells": [
  {
   "cell_type": "markdown",
   "id": "2b93f502-20a2-4c1d-b653-cc06a9debbcd",
   "metadata": {},
   "source": [
    "# India"
   ]
  },
  {
   "cell_type": "markdown",
   "id": "9a6aa7e6-667b-4e7b-8463-13fc9fa5095e",
   "metadata": {},
   "source": [
    "For Bold ** text**         Italicize * text * \n",
    "\n",
    "*Apple* **Banana** ***Orange**"
   ]
  },
  {
   "cell_type": "markdown",
   "id": "0ccc5858-86dc-4c43-9f51-1d66bcf64ab0",
   "metadata": {},
   "source": [
    "Use *\n",
    "* all\n",
    "* red\n",
    "* blue"
   ]
  },
  {
   "cell_type": "markdown",
   "id": "7583af31-c927-4fdd-ad12-c52a721c80dc",
   "metadata": {},
   "source": [
    "`my_variable=5`  <- use the backticks here"
   ]
  },
  {
   "cell_type": "markdown",
   "id": "dc92cdf4-1682-4933-848a-fc12d84f058b",
   "metadata": {},
   "source": [
    "- To add hyperlink **-->** [link_name]+(https://www.abc.com)\n",
    "\n",
    "[HyperLink](https://www.google.co.in/)"
   ]
  },
  {
   "cell_type": "markdown",
   "id": "ea246d66-726e-42a9-8a71-993ca19dd645",
   "metadata": {},
   "source": [
    "1. Sun rise\n",
    "2. Wake up"
   ]
  }
 ],
 "metadata": {
  "kernelspec": {
   "display_name": "Python 3 (ipykernel)",
   "language": "python",
   "name": "python3"
  },
  "language_info": {
   "codemirror_mode": {
    "name": "ipython",
    "version": 3
   },
   "file_extension": ".py",
   "mimetype": "text/x-python",
   "name": "python",
   "nbconvert_exporter": "python",
   "pygments_lexer": "ipython3",
   "version": "3.12.4"
  }
 },
 "nbformat": 4,
 "nbformat_minor": 5
}
