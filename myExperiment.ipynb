{
 "cells": [
  {
   "cell_type": "code",
   "execution_count": 14,
   "metadata": {},
   "outputs": [
    {
     "name": "stdout",
     "output_type": "stream",
     "text": [
      "B\n"
     ]
    }
   ],
   "source": [
    "a = 2\n",
    "b = 330\n",
    "print(\"A\") if a > b else print(\"B\")"
   ]
  },
  {
   "cell_type": "code",
   "execution_count": 15,
   "metadata": {},
   "outputs": [
    {
     "name": "stdout",
     "output_type": "stream",
     "text": [
      "B\n"
     ]
    }
   ],
   "source": [
    "a = 2\n",
    "b = 330\n",
    "if a > b:\n",
    "    print(\"A\") \n",
    "elif 165*a!=b:\n",
    "    print(\"B\")\n",
    "else:\n",
    "    print('B')"
   ]
  },
  {
   "cell_type": "code",
   "execution_count": 16,
   "metadata": {},
   "outputs": [
    {
     "name": "stdout",
     "output_type": "stream",
     "text": [
      "A\n"
     ]
    }
   ],
   "source": [
    "a = 2\n",
    "b = 330\n",
    "if a < b:\n",
    "    print(\"A\") \n",
    "elif 65*a!=b:\n",
    "    print(\"A\")\n",
    "else:\n",
    "    print('B')"
   ]
  },
  {
   "cell_type": "code",
   "execution_count": 17,
   "metadata": {},
   "outputs": [
    {
     "name": "stdout",
     "output_type": "stream",
     "text": [
      "B\n"
     ]
    }
   ],
   "source": [
    "a = 2\n",
    "b = 330\n",
    "if a > b:\n",
    "    print(\"A\") \n",
    "else:\n",
    " print(\"B\")"
   ]
  },
  {
   "cell_type": "code",
   "execution_count": 12,
   "metadata": {},
   "outputs": [
    {
     "name": "stdout",
     "output_type": "stream",
     "text": [
      "world\n"
     ]
    }
   ],
   "source": [
    "def hello():\n",
    "    print('world')\n",
    "\n",
    "hello()"
   ]
  },
  {
   "cell_type": "code",
   "execution_count": 19,
   "metadata": {},
   "outputs": [
    {
     "name": "stdout",
     "output_type": "stream",
     "text": [
      "Hello, Sandeep\n"
     ]
    }
   ],
   "source": [
    "print(\"Hello, \" + input(\"your name:\"))"
   ]
  },
  {
   "cell_type": "code",
   "execution_count": 20,
   "metadata": {},
   "outputs": [
    {
     "name": "stdout",
     "output_type": "stream",
     "text": [
      "Hello, 27 your age is \n"
     ]
    }
   ],
   "source": [
    "X=input(\"your name:\")\n",
    "Y=input('your age:')\n",
    "print(\"Hello, \" + X + ' your age is ' + Y)"
   ]
  },
  {
   "cell_type": "code",
   "execution_count": 22,
   "metadata": {},
   "outputs": [
    {
     "name": "stdout",
     "output_type": "stream",
     "text": [
      "Hello, Sandeep your age is  27\n"
     ]
    }
   ],
   "source": [
    "print(\"Hello, \" + input('your name') + ' your age is ', int(input('your age')))"
   ]
  },
  {
   "cell_type": "code",
   "execution_count": 13,
   "metadata": {},
   "outputs": [
    {
     "name": "stdout",
     "output_type": "stream",
     "text": [
      "Hello, Sandeep your age is 24\n"
     ]
    }
   ],
   "source": [
    "print(\"Hello, \" + input('your name') + ' your age is '+ input('your age'))"
   ]
  },
  {
   "cell_type": "code",
   "execution_count": 24,
   "metadata": {},
   "outputs": [
    {
     "name": "stdout",
     "output_type": "stream",
     "text": [
      "Name: Sandeep, DOB: sd\n"
     ]
    }
   ],
   "source": [
    "name = input(\"Enter your name: \")\n",
    "dob = input(\"Enter your date of birth (dd-mm-yyyy): \")\n",
    "print(f\"Name: {name}, DOB: {dob}\")"
   ]
  },
  {
   "cell_type": "code",
   "execution_count": 25,
   "metadata": {},
   "outputs": [
    {
     "name": "stdout",
     "output_type": "stream",
     "text": [
      "Name: name, DOB: dob\n"
     ]
    }
   ],
   "source": [
    "name = input(\"Enter your name: \")\n",
    "dob = input(\"Enter your date of birth (dd-mm-yyyy): \")\n",
    "print(f\"Name: name, DOB: dob\")"
   ]
  },
  {
   "cell_type": "code",
   "execution_count": 29,
   "metadata": {},
   "outputs": [
    {
     "name": "stdout",
     "output_type": "stream",
     "text": [
      "Name:sandeepDOB:34\n"
     ]
    }
   ],
   "source": [
    "name = input(\"Enter your name: \")\n",
    "dob = input(\"Enter your date of birth (dd-mm-yyyy): \")\n",
    "print(\"Name:\" + name + 'DOB:' + dob)"
   ]
  },
  {
   "cell_type": "code",
   "execution_count": null,
   "metadata": {},
   "outputs": [],
   "source": [
    "name = input(\"Enter your name: \")\n",
    "dob = input(\"Enter your date of birth (dd-mm-yyyy): \")\n",
    "print(f\"Name: {name}, DOB: {dob}\")"
   ]
  },
  {
   "cell_type": "code",
   "execution_count": 5,
   "metadata": {},
   "outputs": [],
   "source": [
    "for x in range(0,-5):\n",
    "    print(x)"
   ]
  },
  {
   "cell_type": "code",
   "execution_count": 11,
   "metadata": {},
   "outputs": [
    {
     "name": "stdout",
     "output_type": "stream",
     "text": [
      "2\n",
      "4\n",
      "6\n",
      "8\n",
      "10\n",
      "12\n",
      "14\n",
      "16\n",
      "18\n"
     ]
    }
   ],
   "source": [
    "for x in range(2,20):\n",
    "    if x%2!=0:\n",
    "       continue \n",
    "    print(x)"
   ]
  },
  {
   "cell_type": "code",
   "execution_count": 15,
   "metadata": {},
   "outputs": [
    {
     "name": "stdout",
     "output_type": "stream",
     "text": [
      "2\n",
      "8\n",
      "14\n"
     ]
    }
   ],
   "source": [
    "for x in range(2,20,6):\n",
    "     print(x)"
   ]
  },
  {
   "cell_type": "code",
   "execution_count": 20,
   "metadata": {},
   "outputs": [
    {
     "name": "stdout",
     "output_type": "stream",
     "text": [
      "1\n",
      "2\n",
      "3\n",
      "4\n",
      "5\n",
      "6\n",
      "7\n",
      "8\n",
      "9\n",
      "10\n",
      "11\n",
      "12\n"
     ]
    }
   ],
   "source": [
    "# Flatten a nested list\n",
    "list = [[1, 2, 3],[4, 5, 6],[7, 8, 9],[10,11],[12]]   \n",
    "for x in list:\n",
    "    for y in x:\n",
    "        print(y)"
   ]
  },
  {
   "cell_type": "code",
   "execution_count": 26,
   "metadata": {},
   "outputs": [
    {
     "name": "stdout",
     "output_type": "stream",
     "text": [
      "0\n",
      "1\n",
      "2\n",
      "3\n",
      "4\n",
      "5\n"
     ]
    }
   ],
   "source": [
    "colors = ['red', 'green', 'blue','yellow','orange','pink']\n",
    "for x in range(len(colors)):\n",
    "    print(x)"
   ]
  },
  {
   "cell_type": "code",
   "execution_count": 27,
   "metadata": {},
   "outputs": [
    {
     "name": "stdout",
     "output_type": "stream",
     "text": [
      "0 red\n",
      "1 green\n",
      "2 blue\n",
      "3 yellow\n",
      "4 orange\n",
      "5 pink\n"
     ]
    }
   ],
   "source": [
    "colors = ['red', 'green', 'blue','yellow','orange','pink']\n",
    "for x in range(len(colors)):\n",
    "    print(x,colors[x])"
   ]
  },
  {
   "cell_type": "code",
   "execution_count": 28,
   "metadata": {},
   "outputs": [
    {
     "name": "stdout",
     "output_type": "stream",
     "text": [
      "1 green\n",
      "3 yellow\n",
      "5 pink\n"
     ]
    }
   ],
   "source": [
    "colors = ['red', 'green', 'blue','yellow','orange','pink']\n",
    "for x in range(len(colors)):\n",
    "    if x%2 ==0:\n",
    "        continue\n",
    "    print(x,colors[x])"
   ]
  },
  {
   "cell_type": "code",
   "execution_count": 37,
   "metadata": {},
   "outputs": [
    {
     "name": "stdout",
     "output_type": "stream",
     "text": [
      "0\n",
      "2\n",
      "3\n"
     ]
    }
   ],
   "source": [
    "T = [(1, 2), (3, 4), (5, 6),(7,8,9)]\n",
    "for x in range(len(T)):\n",
    " if x==1: continue\n",
    " print((x))"
   ]
  },
  {
   "cell_type": "code",
   "execution_count": 39,
   "metadata": {},
   "outputs": [
    {
     "name": "stdout",
     "output_type": "stream",
     "text": [
      "1 2\n",
      "3 4\n",
      "5 6\n"
     ]
    }
   ],
   "source": [
    "# Tuple unpacking\n",
    "T = [(1, 2), (3, 4), (5, 6)]\n",
    "for (a, b) in T:\n",
    "    print(a, b)"
   ]
  },
  {
   "cell_type": "code",
   "execution_count": 43,
   "metadata": {},
   "outputs": [
    {
     "name": "stdout",
     "output_type": "stream",
     "text": [
      "('name', 'Bob')\n",
      "('age', 25)\n"
     ]
    }
   ],
   "source": [
    "# Dictionary unpacking\n",
    "D = {'name': 'Bob', 'age': 25}\n",
    "for x in D.items():\n",
    "\tprint(x)"
   ]
  },
  {
   "cell_type": "code",
   "execution_count": 44,
   "metadata": {},
   "outputs": [
    {
     "name": "stdout",
     "output_type": "stream",
     "text": [
      "name Bob\n",
      "age 25\n"
     ]
    }
   ],
   "source": [
    "# Dictionary unpacking\n",
    "D = {'name': 'Bob', 'age': 25}\n",
    "for x,y in D.items():\n",
    "\tprint(x,y)"
   ]
  },
  {
   "cell_type": "code",
   "execution_count": 11,
   "metadata": {},
   "outputs": [
    {
     "name": "stdout",
     "output_type": "stream",
     "text": [
      "your name is Sandeep and your age is 29\n"
     ]
    }
   ],
   "source": [
    "# Method:1\n",
    "\n",
    "class Person:\n",
    "    def __init__(self,name,age):\n",
    "        self.name=name\n",
    "        self.age=age\n",
    "\n",
    "    def greet(self):\n",
    "        print('your name is ' + self.name + ' and your age is', int(self.age))\n",
    "\n",
    "Person1=Person('Sandeep',29)\n",
    "Person1.greet()\n"
   ]
  },
  {
   "cell_type": "code",
   "execution_count": 10,
   "metadata": {},
   "outputs": [
    {
     "name": "stdout",
     "output_type": "stream",
     "text": [
      "your name is Sandeep and your age is 29\n"
     ]
    }
   ],
   "source": [
    "# Method:2\n",
    "\n",
    "class Person:\n",
    "    def __init__(self,name,age):\n",
    "        self.name=name\n",
    "        self.age=age\n",
    "\n",
    "    def greet(self):\n",
    "        print('your name is', self.name, 'and your age is', self.age)\n",
    "\n",
    "Person1=Person('Sandeep',29)\n",
    "Person1.greet()\n"
   ]
  },
  {
   "cell_type": "code",
   "execution_count": 12,
   "metadata": {},
   "outputs": [
    {
     "name": "stdout",
     "output_type": "stream",
     "text": [
      "your name is Sandeep and your age is 29\n"
     ]
    }
   ],
   "source": [
    "# Method:3\n",
    "\n",
    "# Same above code after adding String Lateral f\"\" in print() statement\n",
    "\n",
    "class Person:\n",
    "    def __init__(self,name,age):\n",
    "        self.name=name\n",
    "        self.age=age\n",
    "\n",
    "    def greet(self):\n",
    "        print(f'your name is {self.name} and your age is {self.age}')  ### check here\n",
    "\n",
    "Person1=Person('Sandeep',29)\n",
    "Person1.greet()"
   ]
  },
  {
   "cell_type": "code",
   "execution_count": 4,
   "metadata": {},
   "outputs": [
    {
     "name": "stdout",
     "output_type": "stream",
     "text": [
      "{'a': 0, 'b': 0, 'c': 0}\n"
     ]
    }
   ],
   "source": [
    "# Initialize dictionary with default value '0' for each key\n",
    "keys = ['a', 'b', 'c']\n",
    "defaultValue = 0\n",
    "\n",
    "D = dict.fromkeys(keys,defaultValue)\n",
    "\n",
    "print(D)"
   ]
  },
  {
   "cell_type": "code",
   "execution_count": 2,
   "metadata": {},
   "outputs": [
    {
     "name": "stdout",
     "output_type": "stream",
     "text": [
      "1 - 1\n",
      "2 - 4\n",
      "3 - 9\n",
      "4 - 16\n",
      "5 - 25\n"
     ]
    }
   ],
   "source": [
    "for i in range(1,6):\n",
    "    print(i,\"-\",i*i)"
   ]
  },
  {
   "cell_type": "code",
   "execution_count": 8,
   "metadata": {},
   "outputs": [
    {
     "name": "stdout",
     "output_type": "stream",
     "text": [
      "****\n",
      "****\n",
      "****\n",
      "****\n"
     ]
    }
   ],
   "source": [
    "for i in range(4):\n",
    "    i='****'\n",
    "    print(i)"
   ]
  },
  {
   "cell_type": "code",
   "execution_count": null,
   "metadata": {},
   "outputs": [],
   "source": []
  }
 ],
 "metadata": {
  "kernelspec": {
   "display_name": "Python 3",
   "language": "python",
   "name": "python3"
  },
  "language_info": {
   "codemirror_mode": {
    "name": "ipython",
    "version": 3
   },
   "file_extension": ".py",
   "mimetype": "text/x-python",
   "name": "python",
   "nbconvert_exporter": "python",
   "pygments_lexer": "ipython3",
   "version": "3.12.4"
  }
 },
 "nbformat": 4,
 "nbformat_minor": 2
}
