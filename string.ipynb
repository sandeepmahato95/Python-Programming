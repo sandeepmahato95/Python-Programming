{
 "cells": [
  {
   "cell_type": "code",
   "execution_count": 2,
   "metadata": {},
   "outputs": [
    {
     "name": "stdout",
     "output_type": "stream",
     "text": [
      "Is the string a palindrome? True\n"
     ]
    }
   ],
   "source": [
    "'''To check if a string is a palindrome, \n",
    "you can compare it to its reverse. If they are the same, the string is a palindrome.'''\n",
    "\n",
    "def is_palindrome(s):\n",
    "    return s == s[::-1]\n",
    "\n",
    "# Test the function\n",
    "text = \"radar\"\n",
    "result = is_palindrome(text)\n",
    "print(\"Is the string a palindrome?\", result)\n"
   ]
  },
  {
   "cell_type": "code",
   "execution_count": 3,
   "metadata": {},
   "outputs": [
    {
     "name": "stdout",
     "output_type": "stream",
     "text": [
      "Reversed words: Python is this world hello\n"
     ]
    }
   ],
   "source": [
    "'''To reverse the words in a given sentence, \n",
    "split the sentence into words, reverse the list of words, and then join them back into a single string.'''\n",
    "\n",
    "def reverse_words(sentence):\n",
    "    words = sentence.split()\n",
    "    reversed_words = ' '.join(reversed(words))\n",
    "    return reversed_words\n",
    "\n",
    "# Test the function\n",
    "sentence = \"hello world this is Python\"\n",
    "result = reverse_words(sentence)\n",
    "print(\"Reversed words:\", result)\n"
   ]
  },
  {
   "cell_type": "code",
   "execution_count": 4,
   "metadata": {},
   "outputs": [
    {
     "name": "stdout",
     "output_type": "stream",
     "text": [
      "Character counts: {'h': 1, 'e': 1, 'l': 2, 'o': 1}\n"
     ]
    }
   ],
   "source": [
    "'''To count the occurrences of each character in a string, \n",
    "you can use a dictionary to keep track of the counts.'''\n",
    "\n",
    "def count_characters(s):\n",
    "    counts = {}\n",
    "    for char in s:\n",
    "        if char in counts:\n",
    "            counts[char] += 1\n",
    "        else:\n",
    "            counts[char] = 1\n",
    "    return counts\n",
    "\n",
    "# Test the function\n",
    "text = \"hello\"\n",
    "result = count_characters(text)\n",
    "print(\"Character counts:\", result)\n"
   ]
  }
 ],
 "metadata": {
  "kernelspec": {
   "display_name": "Python 3",
   "language": "python",
   "name": "python3"
  },
  "language_info": {
   "codemirror_mode": {
    "name": "ipython",
    "version": 3
   },
   "file_extension": ".py",
   "mimetype": "text/x-python",
   "name": "python",
   "nbconvert_exporter": "python",
   "pygments_lexer": "ipython3",
   "version": "3.12.0"
  }
 },
 "nbformat": 4,
 "nbformat_minor": 2
}
