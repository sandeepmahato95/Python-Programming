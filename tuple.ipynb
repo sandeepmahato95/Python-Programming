{
 "cells": [
  {
   "cell_type": "code",
   "execution_count": 1,
   "metadata": {},
   "outputs": [
    {
     "name": "stdout",
     "output_type": "stream",
     "text": [
      "The index of 30 is 2.\n"
     ]
    }
   ],
   "source": [
    "# Write a Python program to find the index of an element in a tuple.\n",
    "\n",
    "'''To find the index of an element in a tuple, you can use the index() method, \n",
    "which returns the first occurrence of the specified element.'''\n",
    "\n",
    "def find_index(tpl, element):\n",
    "    try:\n",
    "        index = tpl.index(element)\n",
    "        return index\n",
    "    except ValueError:\n",
    "        return \"Element not found in the tuple.\"\n",
    "\n",
    "# Test the function\n",
    "my_tuple = (10, 20, 30, 40, 50)\n",
    "element = 30\n",
    "result = find_index(my_tuple, element)\n",
    "print(f\"The index of {element} is {result}.\")\n"
   ]
  },
  {
   "cell_type": "code",
   "execution_count": 2,
   "metadata": {},
   "outputs": [
    {
     "name": "stdout",
     "output_type": "stream",
     "text": [
      "Product of all elements: 24\n"
     ]
    }
   ],
   "source": [
    "# Implement a function to calculate the product of all elements in a tuple.\n",
    "\n",
    "def product_of_tuple(tup):\n",
    "    product = 1\n",
    "    for num in tup:\n",
    "        product *= num\n",
    "    return product\n",
    "\n",
    "# Test the function\n",
    "my_tuple = (2, 3, 4)\n",
    "result = product_of_tuple(my_tuple)\n",
    "print(\"Product of all elements:\", result)\n"
   ]
  },
  {
   "cell_type": "code",
   "execution_count": 3,
   "metadata": {},
   "outputs": [
    {
     "name": "stdout",
     "output_type": "stream",
     "text": [
      "The tuples have the same elements.\n"
     ]
    }
   ],
   "source": [
    "# Create a program to check if two tuples have the same elements.\n",
    "\n",
    "'''To check if two tuples have the same elements, you can sort both tuples and compare them directly. \n",
    "If the sorted tuples are identical, then the tuples have the same elements.'''\n",
    "\n",
    "def have_same_elements(tuple1, tuple2):\n",
    "    return sorted(tuple1) == sorted(tuple2)\n",
    "\n",
    "# Test the function\n",
    "tuple_a = (3, 1, 4, 2)\n",
    "tuple_b = (4, 3, 2, 1)\n",
    "result = have_same_elements(tuple_a, tuple_b)\n",
    "\n",
    "if result:\n",
    "    print(\"The tuples have the same elements.\")\n",
    "else:\n",
    "    print(\"The tuples do not have the same elements.\")\n"
   ]
  },
  {
   "cell_type": "code",
   "execution_count": 5,
   "metadata": {},
   "outputs": [
    {
     "name": "stdout",
     "output_type": "stream",
     "text": [
      "Converted list: [1, 2, 3, 4]\n"
     ]
    }
   ],
   "source": [
    "# How can you convert a tuple to a list?\n",
    "\n",
    "'''To convert a tuple to a list, you can use the list() function, \n",
    "which takes an iterable (such as a tuple) and returns a new list containing the same elements.'''\n",
    "\n",
    "def tuple_to_list(tup):\n",
    "    return list(tup)\n",
    "\n",
    "# Test the function\n",
    "my_tuple = (1, 2, 3, 4)\n",
    "converted_list = tuple_to_list(my_tuple)\n",
    "print(\"Converted list:\", converted_list)\n"
   ]
  },
  {
   "cell_type": "code",
   "execution_count": 4,
   "metadata": {},
   "outputs": [
    {
     "name": "stdout",
     "output_type": "stream",
     "text": [
      "Error: 'tuple' object does not support item assignment\n"
     ]
    }
   ],
   "source": [
    "# Can you modify a tuple after it has been created?\n",
    "\n",
    "'''No, you cannot modify a tuple after it has been created. \n",
    "Tuples are immutable, meaning their elements cannot be changed, added, or removed once the tuple is created.'''\n",
    "\n",
    "my_tuple = (1, 2, 3, 4)\n",
    "# Attempting to modify an element will raise an error\n",
    "try:\n",
    "    my_tuple[1] = 5\n",
    "except TypeError as e:\n",
    "    print(\"Error:\", e)"
   ]
  },
  {
   "cell_type": "code",
   "execution_count": 6,
   "metadata": {},
   "outputs": [
    {
     "name": "stdout",
     "output_type": "stream",
     "text": [
      "Name: John\n",
      "Age: 25\n",
      "Profession: Engineer\n"
     ]
    }
   ],
   "source": [
    "# Explain the concept of tuple unpacking in Python.\n",
    "\n",
    "'''\n",
    "1. Tuple unpacking in Python allows you to assign elements of a tuple to multiple variables in a single statement. \n",
    "2. It simplifies extracting values from a tuple and assigning them to individual variables.\n",
    "\n",
    "3.Key Points:\n",
    "Matching Length: The number of variables on the left must match the number of elements in the tuple.\n",
    "Flexible: Tuple unpacking can also be used with lists and other iterable structures\n",
    "'''\n",
    "\n",
    "# Tuple with multiple elements\n",
    "person = (\"John\", 25, \"Engineer\")\n",
    "\n",
    "# Tuple unpacking\n",
    "name, age, profession = person\n",
    "\n",
    "print(\"Name:\", name)\n",
    "print(\"Age:\", age)\n",
    "print(\"Profession:\", profession)\n"
   ]
  }
 ],
 "metadata": {
  "kernelspec": {
   "display_name": "Python 3",
   "language": "python",
   "name": "python3"
  },
  "language_info": {
   "codemirror_mode": {
    "name": "ipython",
    "version": 3
   },
   "file_extension": ".py",
   "mimetype": "text/x-python",
   "name": "python",
   "nbconvert_exporter": "python",
   "pygments_lexer": "ipython3",
   "version": "3.12.0"
  }
 },
 "nbformat": 4,
 "nbformat_minor": 2
}
